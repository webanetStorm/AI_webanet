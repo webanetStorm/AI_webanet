{
  "cells": [
    {
      "cell_type": "markdown",
      "metadata": {
        "id": "view-in-github",
        "colab_type": "text"
      },
      "source": [
        "<a href=\"https://colab.research.google.com/github/webanetStorm/AI_webanet/blob/master/AI_7.ipynb\" target=\"_parent\"><img src=\"https://colab.research.google.com/assets/colab-badge.svg\" alt=\"Open In Colab\"/></a>"
      ]
    },
    {
      "cell_type": "markdown",
      "id": "c38448e2",
      "metadata": {
        "id": "c38448e2"
      },
      "source": [
        "**Пример 1.1.1.** Рассмотрим программу обучения персептрона на языке Python. Сначала\n",
        "рассмотрим основной класс персептрона, который умеет учиться по\n",
        "тестовым данным."
      ]
    },
    {
      "cell_type": "code",
      "execution_count": 1,
      "id": "030b1c0a",
      "metadata": {
        "id": "030b1c0a",
        "outputId": "ec51e8c6-9d1f-46d6-fb35-e391168e784f",
        "colab": {
          "base_uri": "https://localhost:8080/"
        }
      },
      "outputs": [
        {
          "output_type": "stream",
          "name": "stdout",
          "text": [
            "[0.1, -0.1]\n",
            "-1\n",
            "1\n",
            "1\n",
            "-1\n"
          ]
        }
      ],
      "source": [
        "class Perceptron:\n",
        "    def __init__(self, N):\n",
        "        self.w = list()\n",
        "        for i in range(N):\n",
        "            self.w.append(0)\n",
        "\n",
        "    def calc(self, x):\n",
        "        res = 0\n",
        "        for i in range(len(self.w)):\n",
        "            res = res + self.w[i] * x[i]\n",
        "        return res\n",
        "\n",
        "    def sign(self, x):\n",
        "        if self.calc(x) > 0:\n",
        "            return 1\n",
        "        else:\n",
        "            return -1\n",
        "\n",
        "    def learn(self, la, x, y):\n",
        "        if y * self.calc(x) <= 0:\n",
        "            for i in range(len(self.w)):\n",
        "                self.w[i] = self.w[i] + la * y * x[i]\n",
        "\n",
        "    def learning(self, la, T):\n",
        "        for n in range(100):\n",
        "            for t in T:\n",
        "                self.learn(la, t[0], t[1])\n",
        "\n",
        "\n",
        "perceptron = Perceptron(2)\n",
        "la = 0.1\n",
        "T = list()\n",
        "T.append([[2, 1], 1])\n",
        "T.append([[3, 2], 1])\n",
        "T.append([[4, 1], 1])\n",
        "T.append([[1, 2], -1])\n",
        "T.append([[2, 3], -1])\n",
        "T.append([[5, 7], -1])\n",
        "\n",
        "perceptron.learning(la, T)\n",
        "print(perceptron.w)\n",
        "print(perceptron.sign([1.5, 2]))\n",
        "print(perceptron.sign([3, 1.5]))\n",
        "print(perceptron.sign([5, 1]))\n",
        "print(perceptron.sign([5, 10]))"
      ]
    },
    {
      "cell_type": "markdown",
      "id": "05cc6d22",
      "metadata": {
        "id": "05cc6d22"
      },
      "source": [
        "**Пример 1.1.2.** Для написания кода нейрона будем использовать библиотеку Pytnon\n",
        "— NumPy"
      ]
    },
    {
      "cell_type": "code",
      "execution_count": 2,
      "id": "28052e71",
      "metadata": {
        "id": "28052e71",
        "outputId": "8d62b52d-3ddb-4a8a-e6b5-a705fc984743",
        "colab": {
          "base_uri": "https://localhost:8080/"
        }
      },
      "outputs": [
        {
          "output_type": "stream",
          "name": "stdout",
          "text": [
            "0.9990889488055994\n",
            "0.7216325609518421\n"
          ]
        }
      ],
      "source": [
        "import numpy as np\n",
        "\n",
        "\n",
        "def sigmoid(x):\n",
        "    return 1 / (1 + np.exp(-x))\n",
        "\n",
        "\n",
        "class Neuron:\n",
        "    def __init__(self, weights, bias):\n",
        "        self.weights = weights\n",
        "        self.bias = bias\n",
        "\n",
        "    def feedforward(self, inputs):\n",
        "        total = np.dot(self.weights, inputs) + self.bias\n",
        "        return sigmoid(total)\n",
        "\n",
        "\n",
        "weights = np.array([0, 1])\n",
        "bias = 4\n",
        "n = Neuron(weights, bias)\n",
        "x = np.array([2, 3])\n",
        "print(n.feedforward(x))\n",
        "\n",
        "import numpy as np\n",
        "\n",
        "\n",
        "class OurNeuralNetwork:\n",
        "    def __init__(self):\n",
        "        weights = np.array([0, 1])\n",
        "        bias = 0\n",
        "        self.h1 = Neuron(weights, bias)\n",
        "        self.h2 = Neuron(weights, bias)\n",
        "        self.o1 = Neuron(weights, bias)\n",
        "\n",
        "    def feedforward(self, x):\n",
        "        out_h1 = self.h1.feedforward(x)\n",
        "        out_h2 = self.h2.feedforward(x)\n",
        "        out_o1 = self.o1.feedforward(np.array([out_h1, out_h2]))\n",
        "        return out_o1\n",
        "\n",
        "\n",
        "network = OurNeuralNetwork()\n",
        "x = np.array([2, 3])\n",
        "print(network.feedforward(x))"
      ]
    },
    {
      "cell_type": "markdown",
      "id": "ed43bc22",
      "metadata": {
        "id": "ed43bc22"
      },
      "source": [
        "**Задание 1.** Реализовать классы нейросетей по аналогии с классом OurNeuralNetwork"
      ]
    },
    {
      "cell_type": "code",
      "execution_count": 7,
      "id": "27ab1801",
      "metadata": {
        "id": "27ab1801",
        "outputId": "4c54a520-bc76-48e8-c19c-e6011767d5c0",
        "colab": {
          "base_uri": "https://localhost:8080/"
        }
      },
      "outputs": [
        {
          "output_type": "stream",
          "name": "stdout",
          "text": [
            "0.8175744761936437\n"
          ]
        }
      ],
      "source": [
        "import numpy as np\n",
        "\n",
        "\n",
        "def sigmoid(x):\n",
        "    return 1 / (1 + np.exp(-x))\n",
        "\n",
        "\n",
        "class Neuron:\n",
        "    def __init__(self, weights, bias):\n",
        "        self.weights = weights\n",
        "        self.bias = bias\n",
        "\n",
        "    def feedforward(self, inputs):\n",
        "        total = np.dot(self.weights, inputs) + self.bias\n",
        "        return sigmoid(total)\n",
        "\n",
        "\n",
        "class OurNeuralNetwork1:\n",
        "    def __init__(self):\n",
        "        weights = np.array([0.5, 0.5, 0.5])\n",
        "        bias = 0\n",
        "\n",
        "        self.h1 = Neuron(weights, bias)\n",
        "        self.h2 = Neuron(weights, bias)\n",
        "        self.h3 = Neuron(weights, bias)\n",
        "        self.o1 = Neuron(weights, bias)\n",
        "\n",
        "    def feedforward(self, x):\n",
        "        out_h1 = self.h1.feedforward(x)\n",
        "        out_h2 = self.h2.feedforward(x)\n",
        "        out_h3 = self.h3.feedforward(x)\n",
        "\n",
        "        out_o1 = self.o1.feedforward(np.array([out_h1, out_h2, out_h3]))\n",
        "        return out_o1\n",
        "\n",
        "\n",
        "network = OurNeuralNetwork1()\n",
        "x = np.array([0, 10, 100])\n",
        "print(network.feedforward(x))"
      ]
    },
    {
      "cell_type": "markdown",
      "id": "e8cfb3ba",
      "metadata": {
        "id": "e8cfb3ba"
      },
      "source": [
        "**Задание 1.2.1. Sigmoid.** Реализуйте классы нейронных сетей с использованием других функций\n",
        "активации."
      ]
    },
    {
      "cell_type": "code",
      "execution_count": 6,
      "id": "90d448e2",
      "metadata": {
        "id": "90d448e2",
        "outputId": "68728d2b-6c3c-4383-b2d0-5fd6292e5591",
        "colab": {
          "base_uri": "https://localhost:8080/"
        }
      },
      "outputs": [
        {
          "output_type": "stream",
          "name": "stdout",
          "text": [
            "0.8151036049051821\n"
          ]
        }
      ],
      "source": [
        "import numpy as np\n",
        "\n",
        "\n",
        "def sigmoid(x):\n",
        "    return 1 / (1 + np.exp(-x))\n",
        "\n",
        "\n",
        "class Neuron:\n",
        "    def __init__(self, weights, bias):\n",
        "        self.weights = weights\n",
        "        self.bias = bias\n",
        "\n",
        "    def feedforward(self, inputs):\n",
        "        total = np.dot(self.weights, inputs) + self.bias\n",
        "        return sigmoid(total)\n",
        "\n",
        "\n",
        "class OurNeuralNetwork:\n",
        "\n",
        "    def __init__(self):\n",
        "        weights = np.array([0.5, 0.5, 0.5])\n",
        "        bias = 0\n",
        "        self.h1 = Neuron(weights, bias)\n",
        "        self.h2 = Neuron(weights, bias)\n",
        "        self.h3 = Neuron(weights, bias)\n",
        "        self.o1 = Neuron(weights, bias)\n",
        "\n",
        "    def feedforward(self, x):\n",
        "        out_h1 = self.h1.feedforward(x)\n",
        "        out_h2 = self.h2.feedforward(x)\n",
        "        out_h3 = self.h3.feedforward(x)\n",
        "        out_o1 = self.o1.feedforward(np.array([out_h1, out_h2, out_h3]))\n",
        "        return out_o1\n",
        "\n",
        "\n",
        "network = OurNeuralNetwork()\n",
        "x = np.array([2, 3, 4])\n",
        "print(network.feedforward(x))"
      ]
    },
    {
      "cell_type": "markdown",
      "id": "1316e5f3",
      "metadata": {
        "id": "1316e5f3"
      },
      "source": [
        "**Задание 1.2.2. Tanh.** Реализуйте классы нейронных сетей с использованием других функций\n",
        "активации."
      ]
    },
    {
      "cell_type": "code",
      "execution_count": 8,
      "id": "dc357531",
      "metadata": {
        "id": "dc357531",
        "outputId": "ff6cb8a8-bdaa-4418-adb1-e629f9d9c9db",
        "colab": {
          "base_uri": "https://localhost:8080/"
        }
      },
      "outputs": [
        {
          "output_type": "stream",
          "name": "stdout",
          "text": [
            "0.9050813365686774\n"
          ]
        }
      ],
      "source": [
        "import numpy as np\n",
        "\n",
        "\n",
        "def tanh(x):\n",
        "    return np.tanh(x)\n",
        "\n",
        "\n",
        "class Neuron:\n",
        "    def __init__(self, weights, bias):\n",
        "        self.weights = weights\n",
        "        self.bias = bias\n",
        "\n",
        "    def feedforward(self, inputs):\n",
        "        total = np.dot(self.weights, inputs) + self.bias\n",
        "        return tanh(total)\n",
        "\n",
        "\n",
        "class OurNeuralNetwork:\n",
        "\n",
        "    def __init__(self):\n",
        "        weights = np.array([0.5, 0.5, 0.5])\n",
        "        bias = 0\n",
        "        self.h1 = Neuron(weights, bias)\n",
        "        self.h2 = Neuron(weights, bias)\n",
        "        self.h3 = Neuron(weights, bias)\n",
        "        self.o1 = Neuron(weights, bias)\n",
        "\n",
        "    def feedforward(self, x):\n",
        "        out_h1 = self.h1.feedforward(x)\n",
        "        out_h2 = self.h2.feedforward(x)\n",
        "        out_h3 = self.h3.feedforward(x)\n",
        "        out_o1 = self.o1.feedforward(np.array([out_h1, out_h2, out_h3]))\n",
        "        return out_o1\n",
        "\n",
        "\n",
        "network = OurNeuralNetwork()\n",
        "x = np.array([2, 3, 4])\n",
        "print(network.feedforward(x))"
      ]
    },
    {
      "cell_type": "markdown",
      "id": "4d1cfb1d",
      "metadata": {
        "id": "4d1cfb1d"
      },
      "source": [
        "**Задание 1.2.3. ReLU.** Реализуйте классы нейронных сетей с использованием других функций\n",
        "активации."
      ]
    },
    {
      "cell_type": "code",
      "execution_count": 9,
      "id": "42921041",
      "metadata": {
        "id": "42921041",
        "outputId": "a277fbc7-1a9d-47ce-8561-7cc812f108d2",
        "colab": {
          "base_uri": "https://localhost:8080/"
        }
      },
      "outputs": [
        {
          "output_type": "stream",
          "name": "stdout",
          "text": [
            "6.75\n"
          ]
        }
      ],
      "source": [
        "import numpy as np\n",
        "\n",
        "\n",
        "def ReLU(x):\n",
        "    return max(0.0, x)\n",
        "\n",
        "\n",
        "class Neuron:\n",
        "    def __init__(self, weights, bias):\n",
        "        self.weights = weights\n",
        "        self.bias = bias\n",
        "\n",
        "    def feedforward(self, inputs):\n",
        "        total = np.dot(self.weights, inputs) + self.bias\n",
        "        return ReLU(total)\n",
        "\n",
        "\n",
        "class OurNeuralNetwork:\n",
        "\n",
        "    def __init__(self):\n",
        "        weights = np.array([0.5, 0.5, 0.5])\n",
        "        bias = 0\n",
        "        self.h1 = Neuron(weights, bias)\n",
        "        self.h2 = Neuron(weights, bias)\n",
        "        self.h3 = Neuron(weights, bias)\n",
        "        self.o1 = Neuron(weights, bias)\n",
        "\n",
        "    def feedforward(self, x):\n",
        "        out_h1 = self.h1.feedforward(x)\n",
        "        out_h2 = self.h2.feedforward(x)\n",
        "        out_h3 = self.h3.feedforward(x)\n",
        "        out_o1 = self.o1.feedforward(np.array([out_h1, out_h2, out_h3]))\n",
        "        return out_o1\n",
        "\n",
        "\n",
        "network = OurNeuralNetwork()\n",
        "x = np.array([2, 3, 4])\n",
        "print(network.feedforward(x))"
      ]
    },
    {
      "cell_type": "markdown",
      "id": "ae762b73",
      "metadata": {
        "id": "ae762b73"
      },
      "source": [
        "**Задание 2.1.** Используйте классы MLPClassified и MLPRegressor для классификации и\n",
        "регрессии произвольных данных из интернета. Проведите анализ\n",
        "атрибуты, полученных моделей.\n",
        "Для классификации можете взять набор данных Ирисов:\n",
        "https://gist.githubusercontent.com/netj/8836201/raw/6f9306ad21398ea43cba4f\n",
        "7d537619d0e07d5ae3/iris.csv\n",
        "а для регрессии датасет зависимости заработной платы от опыта работы:\n",
        "https://raw.githubusercontent.com/AnnaShestova/salary-years-simple-linear-\n",
        "regression/master/Salary_Data.csv"
      ]
    },
    {
      "cell_type": "code",
      "execution_count": 10,
      "id": "c00d037f",
      "metadata": {
        "scrolled": false,
        "id": "c00d037f",
        "outputId": "46c16108-3301-42e8-f416-28c0397f29b1",
        "colab": {
          "base_uri": "https://localhost:8080/"
        }
      },
      "outputs": [
        {
          "output_type": "stream",
          "name": "stdout",
          "text": [
            "        Actual   Predicted\n",
            "0   Versicolor  Versicolor\n",
            "1       Setosa      Setosa\n",
            "2    Virginica   Virginica\n",
            "3    Virginica   Virginica\n",
            "4       Setosa      Setosa\n",
            "5       Setosa      Setosa\n",
            "6    Virginica   Virginica\n",
            "7   Versicolor   Virginica\n",
            "8    Virginica   Virginica\n",
            "9       Setosa      Setosa\n",
            "10      Setosa      Setosa\n",
            "11  Versicolor  Versicolor\n",
            "12   Virginica   Virginica\n",
            "13  Versicolor  Versicolor\n",
            "14   Virginica   Virginica\n",
            "15  Versicolor  Versicolor\n",
            "16      Setosa      Setosa\n",
            "17      Setosa      Setosa\n",
            "18      Setosa      Setosa\n",
            "19      Setosa      Setosa\n",
            "20      Setosa      Setosa\n",
            "21   Virginica   Virginica\n",
            "22   Virginica   Virginica\n",
            "23  Versicolor  Versicolor\n",
            "24   Virginica   Virginica\n",
            "25   Virginica   Virginica\n",
            "26  Versicolor  Versicolor\n",
            "27  Versicolor  Versicolor\n",
            "28  Versicolor   Virginica\n",
            "29  Versicolor  Versicolor\n",
            "\n",
            "Test Accuracy: 0.933\n",
            "Training Accuracy: 0.992\n",
            "\n",
            "Matrix of Confusion:\n",
            " [[10  0  0]\n",
            " [ 0  8  2]\n",
            " [ 0  0 10]]\n",
            "\n",
            "Loss :  0.05112246186688622\n",
            "Number of Coefs :  2\n",
            "Number of Intercepts :  2\n",
            "Number of Iterations for Which Estimator Run :  558\n",
            "Name of Output Layer Activation Function :  softmax\n"
          ]
        }
      ],
      "source": [
        "import pandas as pd\n",
        "from sklearn.model_selection import train_test_split\n",
        "from sklearn.neural_network import MLPClassifier\n",
        "from sklearn.metrics import confusion_matrix\n",
        "\n",
        "url = r'https://gist.githubusercontent.com/netj/8836201/raw/6f9306ad21398ea43cba4f7d537619d0e07d5ae3/iris.csv'\n",
        "dataset = pd.read_csv(url)\n",
        "\n",
        "X = dataset.iloc[:, :-1].values\n",
        "Y = dataset.iloc[:, -1].values\n",
        "X_train, X_test, Y_train, Y_test = train_test_split(X, Y, train_size=0.80, test_size=0.20, stratify=Y, random_state=123)\n",
        "\n",
        "mlp_classifier = MLPClassifier(max_iter=1000).fit(X_train, Y_train)\n",
        "Y_pred = mlp_classifier.predict(X_test)\n",
        "\n",
        "df = pd.DataFrame({'Actual': Y_test, 'Predicted': Y_pred})\n",
        "print(df)\n",
        "\n",
        "print(\"\\nTest Accuracy: %.3f\" % mlp_classifier.score(X_test, Y_test))\n",
        "print('Training Accuracy: %.3f' % mlp_classifier.score(X_train, Y_train))\n",
        "print(f\"\\nMatrix of Confusion:\\n {confusion_matrix(Y_test, Y_pred)}\")\n",
        "print(f\"\\nLoss : \", mlp_classifier.loss_)\n",
        "print(f'Number of Coefs : ', len(mlp_classifier.coefs_))\n",
        "print(f'Number of Intercepts : ', len(mlp_classifier.intercepts_))\n",
        "print(f'Number of Iterations for Which Estimator Run : ', mlp_classifier.n_iter_)\n",
        "print(f'Name of Output Layer Activation Function : ', mlp_classifier.out_activation_)"
      ]
    },
    {
      "cell_type": "markdown",
      "id": "908849f6",
      "metadata": {
        "id": "908849f6"
      },
      "source": [
        "**Задание 2.2.** Используйте классы MLPClassified и MLPRegressor для классификации и\n",
        "регрессии произвольных данных из интернета. Проведите анализ\n",
        "атрибуты, полученных моделей.\n",
        "Для классификации можете взять набор данных Ирисов:\n",
        "https://gist.githubusercontent.com/netj/8836201/raw/6f9306ad21398ea43cba4f\n",
        "7d537619d0e07d5ae3/iris.csv\n",
        "а для регрессии датасет зависимости заработной платы от опыта работы:\n",
        "https://raw.githubusercontent.com/AnnaShestova/salary-years-simple-linear-\n",
        "regression/master/Salary_Data.csv"
      ]
    },
    {
      "cell_type": "code",
      "execution_count": 11,
      "id": "0973860a",
      "metadata": {
        "id": "0973860a",
        "outputId": "e47a1bb6-0aab-45f2-e4ae-ef9e5326ad9b",
        "colab": {
          "base_uri": "https://localhost:8080/"
        }
      },
      "outputs": [
        {
          "output_type": "stream",
          "name": "stdout",
          "text": [
            "Mean squared error: 1103928704.02\n",
            "R2 score: -0.02\n",
            "4\n",
            "(100, 50)\n",
            "[array([[ 1.97837393e+00,  1.70977644e+00, -6.40167557e-02,\n",
            "        -1.82290626e-24, -7.92655947e-13, -6.62344294e-12,\n",
            "        -2.00659518e-06,  1.83529226e+00,  3.65111932e-25,\n",
            "         1.89206494e+00, -2.64322890e-13,  1.66811042e+00,\n",
            "         1.87519271e+00,  4.78158079e-26,  1.87572421e+00,\n",
            "         1.63208013e+00,  1.47415475e+00, -1.13149227e-25,\n",
            "        -3.31838673e-09,  1.84342699e+00, -1.49357682e-21,\n",
            "        -8.18937919e-07,  1.19539921e-14,  1.89095147e+00,\n",
            "         1.80922220e+00,  1.73436716e+00, -9.64398190e-02,\n",
            "         1.58559089e+00,  1.88871826e+00,  1.83291676e+00,\n",
            "         1.77721877e+00, -1.35825151e-21, -4.18342076e-02,\n",
            "         1.64338439e+00,  1.76024478e+00,  1.88332906e+00,\n",
            "         1.90781090e+00, -1.63759717e-01,  1.59137604e+00,\n",
            "         1.88072204e+00,  1.77631847e+00, -4.84900389e-26,\n",
            "         1.77500959e+00,  1.79257721e+00,  1.70608684e+00,\n",
            "         1.86576764e+00,  1.76616976e+00,  8.54973200e-25,\n",
            "         1.85159855e+00,  1.88956962e+00,  1.64246187e+00,\n",
            "         1.79951785e+00,  1.86426929e+00, -7.97289146e-23,\n",
            "         1.72900691e+00, -8.71915232e-11,  1.87454928e+00,\n",
            "         1.87822455e+00, -8.43629931e-02,  1.75119247e+00,\n",
            "         1.74786421e+00,  1.91355803e+00, -9.11165253e-14,\n",
            "         1.90735381e+00, -1.67778408e-01, -1.19680146e-24,\n",
            "        -9.31156008e-26, -6.06088189e-02,  1.90609857e+00,\n",
            "         1.84271342e+00, -8.76414018e-11, -6.93955982e-02,\n",
            "        -1.88002594e-07,  1.94130933e+00,  1.60534481e+00,\n",
            "         1.87867738e+00,  5.44602561e-23,  1.94088893e+00,\n",
            "         1.84781563e+00,  1.77680948e+00, -1.23711732e-01,\n",
            "         1.81096864e+00,  1.81304413e+00,  1.83020216e+00,\n",
            "         1.82864267e+00,  1.62986650e+00,  5.98445123e-15,\n",
            "         1.73460441e+00,  4.19804135e-21, -1.57708296e-08,\n",
            "        -1.84603541e-01,  1.69123381e+00,  1.81160644e+00,\n",
            "        -1.13941537e-02,  1.90242687e+00,  1.81224250e+00,\n",
            "         1.86677334e+00,  1.71175445e+00,  5.81702478e-03,\n",
            "         1.65935746e+00]]), array([[ 2.39440511e-24,  3.83010284e-02, -6.42971112e-03, ...,\n",
            "        -1.97627893e-01,  1.52455635e+00,  1.65731689e+00],\n",
            "       [-2.76240552e-25,  1.03176429e-01,  1.27470963e-02, ...,\n",
            "         3.33478015e-02,  1.60155288e+00,  1.86215184e+00],\n",
            "       [ 2.31924823e-08, -1.95846958e-19, -4.96292282e-10, ...,\n",
            "         4.09241155e-14,  9.06629920e-02,  7.39949140e-02],\n",
            "       ...,\n",
            "       [-3.61849175e-16, -1.67909742e-01,  1.15061886e-01, ...,\n",
            "        -1.13660835e-01,  1.67849623e+00,  1.59523388e+00],\n",
            "       [ 5.26567191e-21,  1.41100575e-19, -2.73519909e-25, ...,\n",
            "         9.08089488e-16,  1.08490534e-09, -1.82459634e-01],\n",
            "       [-2.65974973e-23,  8.86131486e-02,  1.18351128e-01, ...,\n",
            "         9.79875573e-02,  1.64094732e+00,  1.92373772e+00]]), array([[ 3.58611312e-10],\n",
            "       [-1.13256251e-01],\n",
            "       [-7.15801634e-02],\n",
            "       [ 2.92660768e-24],\n",
            "       [ 5.85810675e-07],\n",
            "       [ 1.93856696e+00],\n",
            "       [-1.74187163e-15],\n",
            "       [ 1.79175234e+00],\n",
            "       [-1.50493247e-01],\n",
            "       [ 1.75836621e+00],\n",
            "       [ 3.13580801e-06],\n",
            "       [-4.37336896e-02],\n",
            "       [-1.15273151e-01],\n",
            "       [-1.20554637e-18],\n",
            "       [ 2.07486710e+00],\n",
            "       [ 1.99148489e+00],\n",
            "       [-3.24594093e-01],\n",
            "       [ 2.00156491e+00],\n",
            "       [-2.17335783e-01],\n",
            "       [-1.52825653e-01],\n",
            "       [ 2.04400661e+00],\n",
            "       [-3.94162813e-04],\n",
            "       [ 1.90725953e+00],\n",
            "       [ 9.04002167e-03],\n",
            "       [ 1.76803867e+00],\n",
            "       [ 1.69352437e+00],\n",
            "       [ 4.21295624e-03],\n",
            "       [ 5.93592869e-04],\n",
            "       [ 1.76266409e+00],\n",
            "       [ 1.86113552e+00],\n",
            "       [-2.97220826e-01],\n",
            "       [-3.11899079e-01],\n",
            "       [-2.05900461e-01],\n",
            "       [-1.67017585e-01],\n",
            "       [ 1.96868587e+00],\n",
            "       [-1.69689367e-04],\n",
            "       [ 1.85046377e+00],\n",
            "       [ 3.68877192e-21],\n",
            "       [ 1.92159522e+00],\n",
            "       [-3.11822466e-04],\n",
            "       [ 2.11790056e+00],\n",
            "       [ 1.85445475e+00],\n",
            "       [-1.71696613e-01],\n",
            "       [ 2.00768120e+00],\n",
            "       [ 2.57419865e-04],\n",
            "       [ 3.98252397e-06],\n",
            "       [-2.99732118e-01],\n",
            "       [-1.18516847e-01],\n",
            "       [ 1.86752764e+00],\n",
            "       [ 1.98179007e+00]])]\n"
          ]
        },
        {
          "output_type": "stream",
          "name": "stderr",
          "text": [
            "/usr/local/lib/python3.10/dist-packages/sklearn/neural_network/_multilayer_perceptron.py:686: ConvergenceWarning: Stochastic Optimizer: Maximum iterations (1000) reached and the optimization hasn't converged yet.\n",
            "  warnings.warn(\n"
          ]
        }
      ],
      "source": [
        "import pandas as pd\n",
        "from sklearn.model_selection import train_test_split\n",
        "from sklearn.neural_network import MLPRegressor\n",
        "from sklearn.metrics import mean_squared_error, r2_score\n",
        "\n",
        "url = r'https://raw.githubusercontent.com/AnnaShestova/salary-years-simple-linear-regression/master/Salary_Data.csv'\n",
        "data = pd.read_csv(url)\n",
        "\n",
        "X = data.iloc[:, :-1].values\n",
        "y = data.iloc[:, 1].values\n",
        "\n",
        "X_train, X_test, y_train, y_test = train_test_split(X, y, test_size=0.2, random_state=0)\n",
        "mlp = MLPRegressor(hidden_layer_sizes=(100, 50), max_iter=1000)\n",
        "mlp.fit(X_train, y_train)\n",
        "y_pred = mlp.predict(X_test)\n",
        "\n",
        "print(\"Mean squared error: %.2f\" % mean_squared_error(y_test, y_pred))\n",
        "print(\"R2 score: %.2f\" % r2_score(y_test, y_pred))\n",
        "print(mlp.n_layers_)\n",
        "print(mlp.hidden_layer_sizes)\n",
        "print(mlp.coefs_)"
      ]
    }
  ],
  "metadata": {
    "kernelspec": {
      "display_name": "Python 3 (ipykernel)",
      "language": "python",
      "name": "python3"
    },
    "language_info": {
      "codemirror_mode": {
        "name": "ipython",
        "version": 3
      },
      "file_extension": ".py",
      "mimetype": "text/x-python",
      "name": "python",
      "nbconvert_exporter": "python",
      "pygments_lexer": "ipython3",
      "version": "3.9.13"
    },
    "colab": {
      "provenance": [],
      "include_colab_link": true
    }
  },
  "nbformat": 4,
  "nbformat_minor": 5
}