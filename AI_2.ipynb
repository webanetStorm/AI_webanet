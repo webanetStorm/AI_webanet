{
  "cells": [
    {
      "cell_type": "markdown",
      "metadata": {
        "id": "view-in-github",
        "colab_type": "text"
      },
      "source": [
        "<a href=\"https://colab.research.google.com/github/webanetStorm/AI_webanet/blob/master/AI_2.ipynb\" target=\"_parent\"><img src=\"https://colab.research.google.com/assets/colab-badge.svg\" alt=\"Open In Colab\"/></a>"
      ]
    },
    {
      "cell_type": "markdown",
      "id": "41420c93",
      "metadata": {
        "id": "41420c93"
      },
      "source": [
        "**Пример 1.2.1.** Создать массив 5x2. Создать массив 5x2. Вывести все значения массива,\n",
        "значение элемента с индексом (3,1) и второй столбец. Индексация начинается с нуля."
      ]
    },
    {
      "cell_type": "code",
      "execution_count": 1,
      "id": "d863f398",
      "metadata": {
        "id": "d863f398",
        "outputId": "e1b5b8e8-72e8-4e3c-fac5-130069b55873",
        "colab": {
          "base_uri": "https://localhost:8080/"
        }
      },
      "outputs": [
        {
          "output_type": "stream",
          "name": "stdout",
          "text": [
            "[[ 1  2]\n",
            " [ 3  4]\n",
            " [ 5  6]\n",
            " [ 7  8]\n",
            " [ 9 10]]\n",
            "8\n",
            "[3 4]\n"
          ]
        }
      ],
      "source": [
        "import numpy as np\n",
        "\n",
        "x = np.array([[1, 2], [3, 4], [5, 6], [7, 8], [9, 10]])\n",
        "print(x)\n",
        "print(x[3][1])\n",
        "print(x[1])"
      ]
    },
    {
      "cell_type": "markdown",
      "id": "8d419f45",
      "metadata": {
        "id": "8d419f45"
      },
      "source": [
        "**Пример 1.2.2.** Выполнить следующее:\n",
        "1. Создать вектор (одномерный массив) размера 10, заполненный\n",
        "нулями.\n",
        "2. Создать вектор размера 10, заполненный единицами.\n",
        "3. Создать вектор размера 10, заполненный заданным числом.\n",
        "4. Создать вектор со значениями от 10 до 19.}$"
      ]
    },
    {
      "cell_type": "code",
      "execution_count": 4,
      "id": "f84e47bb",
      "metadata": {
        "id": "f84e47bb",
        "outputId": "6f821eda-cb98-4f7d-bd22-928a7efa3dc3",
        "colab": {
          "base_uri": "https://localhost:8080/"
        }
      },
      "outputs": [
        {
          "output_type": "stream",
          "name": "stdout",
          "text": [
            "[0. 0. 0. 0. 0. 0. 0. 0. 0. 0.] \n",
            " [1. 1. 1. 1. 1. 1. 1. 1. 1. 1.] \n",
            " [5 5 5 5 5 5 5 5 5 5] \n",
            " [10 11 12 13 14 15 16 17 18 19]\n"
          ]
        }
      ],
      "source": [
        "import numpy as np\n",
        "\n",
        "a = np.zeros(10)\n",
        "b = np.ones(10)\n",
        "c = np.full(10, 5)\n",
        "d = np.arange(10, 20)\n",
        "\n",
        "print(a, \"\\n\", b, \"\\n\", c, \"\\n\", d)"
      ]
    },
    {
      "cell_type": "markdown",
      "id": "c4e1d61d",
      "metadata": {
        "id": "c4e1d61d"
      },
      "source": [
        "**Пример 1.2.3.** Создать массив 10x10 со случайными значениями, найти минимум,\n",
        "максимум и среднее значение."
      ]
    },
    {
      "cell_type": "code",
      "execution_count": 2,
      "id": "dc7bc316",
      "metadata": {
        "id": "dc7bc316",
        "outputId": "6710b79d-e1ca-451c-b4a2-59f8cfa3c863",
        "colab": {
          "base_uri": "https://localhost:8080/"
        }
      },
      "outputs": [
        {
          "output_type": "stream",
          "name": "stdout",
          "text": [
            "0.007137509707888623 0.9920860613436094 0.5140682241821438\n"
          ]
        }
      ],
      "source": [
        "import numpy as np\n",
        "\n",
        "Z = np.random.random((10, 10))\n",
        "Zmin, Zmax, Zmean = Z.min(), Z.max(),Z.mean()\n",
        "print(Zmin, Zmax, Zmean)"
      ]
    },
    {
      "cell_type": "markdown",
      "id": "771a7065",
      "metadata": {
        "id": "771a7065"
      },
      "source": [
        "**Пример 1.2.4.** Задать матрицу размерности 5 на 5 и поменять 2 строки в матрице\n",
        "местами."
      ]
    },
    {
      "cell_type": "code",
      "execution_count": 5,
      "id": "6bb4844b",
      "metadata": {
        "id": "6bb4844b",
        "outputId": "efb78b89-90b8-4fb4-c00c-115823291362",
        "colab": {
          "base_uri": "https://localhost:8080/"
        }
      },
      "outputs": [
        {
          "output_type": "stream",
          "name": "stdout",
          "text": [
            "[[ 5  6  7  8  9]\n",
            " [ 0  1  2  3  4]\n",
            " [10 11 12 13 14]\n",
            " [15 16 17 18 19]\n",
            " [20 21 22 23 24]]\n"
          ]
        }
      ],
      "source": [
        "import numpy as np\n",
        "\n",
        "A = np.arange(25).reshape(5,5)\n",
        "A[[0, 1]] = A[[1, 0]]\n",
        "print(A)"
      ]
    },
    {
      "cell_type": "markdown",
      "id": "8aa1198e",
      "metadata": {
        "id": "8aa1198e"
      },
      "source": [
        "**Пример 1.2.5.** Выяснить результат следующих выражений:\n",
        "0 * np.nan ,\n",
        "np.nan == np.nan ,\n",
        "np.inf > np.nan ,\n",
        "np.nan - np.nan ,\n",
        "0.3 == 3 * 0.1}$"
      ]
    },
    {
      "cell_type": "code",
      "execution_count": 6,
      "id": "0c583e7a",
      "metadata": {
        "id": "0c583e7a",
        "outputId": "bdc0f7e2-603d-46ba-ab1e-f571581249df",
        "colab": {
          "base_uri": "https://localhost:8080/"
        }
      },
      "outputs": [
        {
          "output_type": "stream",
          "name": "stdout",
          "text": [
            "nan\n",
            "False\n",
            "False\n",
            "nan\n",
            "False\n"
          ]
        }
      ],
      "source": [
        "import numpy as np\n",
        "\n",
        "print(0 * np.nan)\n",
        "print(np.nan == np.nan)\n",
        "print(np.inf > np.nan)\n",
        "print(np.nan - np.nan)\n",
        "print(0.3 == 3 * 0.1)"
      ]
    },
    {
      "cell_type": "markdown",
      "id": "af84fcf1",
      "metadata": {
        "id": "af84fcf1"
      },
      "source": [
        "**Пример 1.2.6.** Отсортировать массив."
      ]
    },
    {
      "cell_type": "code",
      "execution_count": 12,
      "id": "25bfc9c8",
      "metadata": {
        "id": "25bfc9c8",
        "outputId": "3891ec38-9e5e-45f0-912d-62773dfcf535",
        "colab": {
          "base_uri": "https://localhost:8080/"
        }
      },
      "outputs": [
        {
          "output_type": "stream",
          "name": "stdout",
          "text": [
            "[1 2 3 4 5 6 7 8]\n"
          ]
        }
      ],
      "source": [
        "import numpy as np\n",
        "\n",
        "arr = np.array([2, 1, 5, 3, 7, 4, 6, 8])\n",
        "print(np.sort(arr))"
      ]
    },
    {
      "cell_type": "markdown",
      "id": "10a40341",
      "metadata": {
        "id": "10a40341"
      },
      "source": [
        "**Задание 1.3.1.** Создать 8x8 матрицу и заполнить её в шахматном порядке нулями и\n",
        "единицами."
      ]
    },
    {
      "cell_type": "code",
      "execution_count": 8,
      "id": "569a2d24",
      "metadata": {
        "id": "569a2d24",
        "outputId": "09b1b20a-b667-46ca-99ce-4d2cc2e17dba",
        "colab": {
          "base_uri": "https://localhost:8080/"
        }
      },
      "outputs": [
        {
          "output_type": "stream",
          "name": "stdout",
          "text": [
            "[[1 0 1 0 1 0 1 0]\n",
            " [0 1 0 1 0 1 0 1]\n",
            " [1 0 1 0 1 0 1 0]\n",
            " [0 1 0 1 0 1 0 1]\n",
            " [1 0 1 0 1 0 1 0]\n",
            " [0 1 0 1 0 1 0 1]\n",
            " [1 0 1 0 1 0 1 0]\n",
            " [0 1 0 1 0 1 0 1]]\n"
          ]
        }
      ],
      "source": [
        "from numpy import *\n",
        "\n",
        "matrix = zeros((8, 8), dtype=int)\n",
        "matrix[::2, ::2] = 1\n",
        "matrix[1::2, 1::2] = 1\n",
        "\n",
        "print(matrix)"
      ]
    },
    {
      "cell_type": "markdown",
      "id": "1dffa9fa",
      "metadata": {
        "id": "1dffa9fa"
      },
      "source": [
        "**Задание 1.3.2.** Создать 5x5 матрицу со значениями в строках от 0 до 4. Для создания\n",
        "необходимо использовать функцию arrange."
      ]
    },
    {
      "cell_type": "code",
      "execution_count": 9,
      "id": "4ff1e6d2",
      "metadata": {
        "id": "4ff1e6d2",
        "outputId": "3516c4f2-2cdf-4cca-ab8f-7a280b96a85d",
        "colab": {
          "base_uri": "https://localhost:8080/"
        }
      },
      "outputs": [
        {
          "output_type": "stream",
          "name": "stdout",
          "text": [
            "[[0. 1. 2. 3. 4.]\n",
            " [0. 1. 2. 3. 4.]\n",
            " [0. 1. 2. 3. 4.]\n",
            " [0. 1. 2. 3. 4.]\n",
            " [0. 1. 2. 3. 4.]]\n"
          ]
        }
      ],
      "source": [
        "from numpy import *\n",
        "\n",
        "matrix = zeros((5, 5))\n",
        "matrix += arange(5)\n",
        "\n",
        "print(matrix)"
      ]
    },
    {
      "cell_type": "markdown",
      "id": "d9efe2ee",
      "metadata": {
        "id": "d9efe2ee"
      },
      "source": [
        "**Зажание 1.3.3.** Создать массив 3x3x3 со случайными значениями."
      ]
    },
    {
      "cell_type": "code",
      "execution_count": 11,
      "id": "b251339c",
      "metadata": {
        "id": "b251339c",
        "outputId": "59db7e5b-7f7f-4c54-abdf-9565c07064eb",
        "colab": {
          "base_uri": "https://localhost:8080/"
        }
      },
      "outputs": [
        {
          "output_type": "stream",
          "name": "stdout",
          "text": [
            "[[[0.7633443  0.3526827  0.86116344]\n",
            "  [0.89490799 0.09133445 0.04697962]\n",
            "  [0.76624863 0.91895869 0.66658284]]\n",
            "\n",
            " [[0.76855444 0.35675107 0.78557967]\n",
            "  [0.79409658 0.81556158 0.06325784]\n",
            "  [0.18711352 0.67952544 0.76420769]]\n",
            "\n",
            " [[0.55043639 0.30442732 0.76685249]\n",
            "  [0.53727376 0.64409618 0.73514161]\n",
            "  [0.21344904 0.63939488 0.7990822 ]]]\n"
          ]
        }
      ],
      "source": [
        "from numpy import *\n",
        "\n",
        "print(random.rand(3, 3, 3))"
      ]
    },
    {
      "cell_type": "markdown",
      "id": "73a176ce",
      "metadata": {
        "id": "73a176ce"
      },
      "source": [
        "**Задание 1.3.4.** Создать матрицу с 0 внутри, и 1 на границах."
      ]
    },
    {
      "cell_type": "code",
      "execution_count": 14,
      "id": "437338da",
      "metadata": {
        "id": "437338da",
        "outputId": "f5d3a3e7-c5ad-4323-e738-0ebfc49cdb69",
        "colab": {
          "base_uri": "https://localhost:8080/"
        }
      },
      "outputs": [
        {
          "output_type": "stream",
          "name": "stdout",
          "text": [
            "[[1. 1. 1. 1. 1.]\n",
            " [1. 0. 0. 0. 1.]\n",
            " [1. 0. 0. 0. 1.]\n",
            " [1. 0. 0. 0. 1.]\n",
            " [1. 1. 1. 1. 1.]]\n"
          ]
        }
      ],
      "source": [
        "from numpy import *\n",
        "\n",
        "matrix = zeros((5, 5))\n",
        "matrix[0, :] = 1\n",
        "matrix[-1, :] = 1\n",
        "matrix[:, 0] = 1\n",
        "matrix[:, -1] = 1\n",
        "\n",
        "print(matrix)"
      ]
    },
    {
      "cell_type": "markdown",
      "id": "8c8bc13a",
      "metadata": {
        "id": "8c8bc13a"
      },
      "source": [
        "**Задание 1.3.5.** Создайте массив и отсортируйте его по убыванию."
      ]
    },
    {
      "cell_type": "code",
      "execution_count": 17,
      "id": "a793bb35",
      "metadata": {
        "id": "a793bb35",
        "outputId": "5d725c22-0b3a-49a8-b82b-5e9064bebf26",
        "colab": {
          "base_uri": "https://localhost:8080/"
        }
      },
      "outputs": [
        {
          "output_type": "stream",
          "name": "stdout",
          "text": [
            "[900, 100, 55, 27, 7, 1, 0, -5, -43]\n"
          ]
        }
      ],
      "source": [
        "print(sorted([27, 55, -43, 100, 900, 0, 1, 7, -5])[::-1])"
      ]
    },
    {
      "cell_type": "markdown",
      "id": "d88077fb",
      "metadata": {
        "id": "d88077fb"
      },
      "source": [
        "**Задание 1.3.6.** Создайте матрицу, выведите ее форму, размер и размерность."
      ]
    },
    {
      "cell_type": "code",
      "execution_count": 22,
      "id": "4797da3d",
      "metadata": {
        "id": "4797da3d",
        "outputId": "a77fa528-f238-4026-ef19-cbbaa9994cb8",
        "colab": {
          "base_uri": "https://localhost:8080/"
        }
      },
      "outputs": [
        {
          "output_type": "stream",
          "name": "stdout",
          "text": [
            "Форма: (3, 3) \n",
            "Размер: 9 \n",
            "Размерность: 2\n"
          ]
        }
      ],
      "source": [
        "from numpy import *\n",
        "\n",
        "matrix = array([[1, 2, 3], [4, 5, 6], [7, 8, 9]])\n",
        "\n",
        "print('Форма:', matrix.shape, '\\nРазмер:', matrix.size, '\\nРазмерность:', matrix.ndim)"
      ]
    },
    {
      "cell_type": "markdown",
      "id": "f5d8f5db",
      "metadata": {
        "id": "f5d8f5db"
      },
      "source": [
        "**Задание 2.2.1.** Создать Series из списка Python, словаря Python, и массива Numpy(установить буквенные метки для последнего."
      ]
    },
    {
      "cell_type": "code",
      "execution_count": 24,
      "id": "d9d766a1",
      "metadata": {
        "id": "d9d766a1",
        "outputId": "99012d45-b68c-4bc4-dfde-2d35bb4ce21d",
        "colab": {
          "base_uri": "https://localhost:8080/"
        }
      },
      "outputs": [
        {
          "output_type": "stream",
          "name": "stdout",
          "text": [
            "0    1\n",
            "1    2\n",
            "2    3\n",
            "3    4\n",
            "4    5\n",
            "dtype: int64\n",
            "a    1\n",
            "b    2\n",
            "c    3\n",
            "dtype: int64\n",
            "a    1\n",
            "b    2\n",
            "c    3\n",
            "d    4\n",
            "e    5\n",
            "dtype: int64\n"
          ]
        }
      ],
      "source": [
        "import pandas as pd\n",
        "import numpy as np\n",
        "\n",
        "lst=[1, 2, 3, 4, 5]\n",
        "d={'a': 1,'b': 2,'c': 3}\n",
        "ndarr=np.array([1, 2, 3, 4, 5])\n",
        "\n",
        "s1=pd.Series(lst)\n",
        "s2=pd.Series(d)\n",
        "s3=pd.Series(ndarr,['a', 'b', 'c', 'd', 'e'])\n",
        "\n",
        "print(s1)\n",
        "print(s2)\n",
        "print(s3)"
      ]
    },
    {
      "cell_type": "markdown",
      "id": "f38d9828",
      "metadata": {
        "id": "f38d9828"
      },
      "source": [
        "**Задание 2.2.2.** Дано два Series. Напечатать их первые элементы и все элементы после третьего (во втором фрейме)"
      ]
    },
    {
      "cell_type": "code",
      "execution_count": 30,
      "id": "c9b18830",
      "metadata": {
        "id": "c9b18830",
        "outputId": "6aaae8f6-0d20-4843-cea0-86baca81ee03",
        "colab": {
          "base_uri": "https://localhost:8080/"
        }
      },
      "outputs": [
        {
          "output_type": "stream",
          "name": "stdout",
          "text": [
            "1\n",
            "5\n",
            "3    2\n",
            "4    1\n",
            "dtype: int64\n"
          ]
        }
      ],
      "source": [
        "from pandas import *\n",
        "\n",
        "s1 = Series([1, 2, 3, 4, 5], ['a', 'b', 'c', 'd', 'e'])\n",
        "s2 = Series([5, 4, 3, 2, 1])\n",
        "\n",
        "print(s1['a'])\n",
        "print(s2[0])\n",
        "print(s2[3:])"
      ]
    },
    {
      "cell_type": "markdown",
      "id": "a9704c5c",
      "metadata": {
        "id": "a9704c5c"
      },
      "source": [
        "$\\small\\textbf{2.2.3 Пример}$ $\\small\\textit{Создайте новый фрейм данных.}$"
      ]
    },
    {
      "cell_type": "code",
      "execution_count": 31,
      "id": "22d24082",
      "metadata": {
        "id": "22d24082",
        "outputId": "4478fc92-d78d-4894-e4e2-b516359dca01",
        "colab": {
          "base_uri": "https://localhost:8080/",
          "height": 112
        }
      },
      "outputs": [
        {
          "output_type": "execute_result",
          "data": {
            "text/plain": [
              "                Имя  Возраст  Водитель\n",
              "0     Джеки Джексон       38      True\n",
              "1  Стивен Стивенсон       25     False"
            ],
            "text/html": [
              "\n",
              "  <div id=\"df-7011959d-2290-4acc-90a2-53af9122fea7\" class=\"colab-df-container\">\n",
              "    <div>\n",
              "<style scoped>\n",
              "    .dataframe tbody tr th:only-of-type {\n",
              "        vertical-align: middle;\n",
              "    }\n",
              "\n",
              "    .dataframe tbody tr th {\n",
              "        vertical-align: top;\n",
              "    }\n",
              "\n",
              "    .dataframe thead th {\n",
              "        text-align: right;\n",
              "    }\n",
              "</style>\n",
              "<table border=\"1\" class=\"dataframe\">\n",
              "  <thead>\n",
              "    <tr style=\"text-align: right;\">\n",
              "      <th></th>\n",
              "      <th>Имя</th>\n",
              "      <th>Возраст</th>\n",
              "      <th>Водитель</th>\n",
              "    </tr>\n",
              "  </thead>\n",
              "  <tbody>\n",
              "    <tr>\n",
              "      <th>0</th>\n",
              "      <td>Джеки Джексон</td>\n",
              "      <td>38</td>\n",
              "      <td>True</td>\n",
              "    </tr>\n",
              "    <tr>\n",
              "      <th>1</th>\n",
              "      <td>Стивен Стивенсон</td>\n",
              "      <td>25</td>\n",
              "      <td>False</td>\n",
              "    </tr>\n",
              "  </tbody>\n",
              "</table>\n",
              "</div>\n",
              "    <div class=\"colab-df-buttons\">\n",
              "\n",
              "  <div class=\"colab-df-container\">\n",
              "    <button class=\"colab-df-convert\" onclick=\"convertToInteractive('df-7011959d-2290-4acc-90a2-53af9122fea7')\"\n",
              "            title=\"Convert this dataframe to an interactive table.\"\n",
              "            style=\"display:none;\">\n",
              "\n",
              "  <svg xmlns=\"http://www.w3.org/2000/svg\" height=\"24px\" viewBox=\"0 -960 960 960\">\n",
              "    <path d=\"M120-120v-720h720v720H120Zm60-500h600v-160H180v160Zm220 220h160v-160H400v160Zm0 220h160v-160H400v160ZM180-400h160v-160H180v160Zm440 0h160v-160H620v160ZM180-180h160v-160H180v160Zm440 0h160v-160H620v160Z\"/>\n",
              "  </svg>\n",
              "    </button>\n",
              "\n",
              "  <style>\n",
              "    .colab-df-container {\n",
              "      display:flex;\n",
              "      gap: 12px;\n",
              "    }\n",
              "\n",
              "    .colab-df-convert {\n",
              "      background-color: #E8F0FE;\n",
              "      border: none;\n",
              "      border-radius: 50%;\n",
              "      cursor: pointer;\n",
              "      display: none;\n",
              "      fill: #1967D2;\n",
              "      height: 32px;\n",
              "      padding: 0 0 0 0;\n",
              "      width: 32px;\n",
              "    }\n",
              "\n",
              "    .colab-df-convert:hover {\n",
              "      background-color: #E2EBFA;\n",
              "      box-shadow: 0px 1px 2px rgba(60, 64, 67, 0.3), 0px 1px 3px 1px rgba(60, 64, 67, 0.15);\n",
              "      fill: #174EA6;\n",
              "    }\n",
              "\n",
              "    .colab-df-buttons div {\n",
              "      margin-bottom: 4px;\n",
              "    }\n",
              "\n",
              "    [theme=dark] .colab-df-convert {\n",
              "      background-color: #3B4455;\n",
              "      fill: #D2E3FC;\n",
              "    }\n",
              "\n",
              "    [theme=dark] .colab-df-convert:hover {\n",
              "      background-color: #434B5C;\n",
              "      box-shadow: 0px 1px 3px 1px rgba(0, 0, 0, 0.15);\n",
              "      filter: drop-shadow(0px 1px 2px rgba(0, 0, 0, 0.3));\n",
              "      fill: #FFFFFF;\n",
              "    }\n",
              "  </style>\n",
              "\n",
              "    <script>\n",
              "      const buttonEl =\n",
              "        document.querySelector('#df-7011959d-2290-4acc-90a2-53af9122fea7 button.colab-df-convert');\n",
              "      buttonEl.style.display =\n",
              "        google.colab.kernel.accessAllowed ? 'block' : 'none';\n",
              "\n",
              "      async function convertToInteractive(key) {\n",
              "        const element = document.querySelector('#df-7011959d-2290-4acc-90a2-53af9122fea7');\n",
              "        const dataTable =\n",
              "          await google.colab.kernel.invokeFunction('convertToInteractive',\n",
              "                                                    [key], {});\n",
              "        if (!dataTable) return;\n",
              "\n",
              "        const docLinkHtml = 'Like what you see? Visit the ' +\n",
              "          '<a target=\"_blank\" href=https://colab.research.google.com/notebooks/data_table.ipynb>data table notebook</a>'\n",
              "          + ' to learn more about interactive tables.';\n",
              "        element.innerHTML = '';\n",
              "        dataTable['output_type'] = 'display_data';\n",
              "        await google.colab.output.renderOutput(dataTable, element);\n",
              "        const docLink = document.createElement('div');\n",
              "        docLink.innerHTML = docLinkHtml;\n",
              "        element.appendChild(docLink);\n",
              "      }\n",
              "    </script>\n",
              "  </div>\n",
              "\n",
              "\n",
              "<div id=\"df-776b2fc0-1f1b-4cb2-b649-b299e7a1b501\">\n",
              "  <button class=\"colab-df-quickchart\" onclick=\"quickchart('df-776b2fc0-1f1b-4cb2-b649-b299e7a1b501')\"\n",
              "            title=\"Suggest charts\"\n",
              "            style=\"display:none;\">\n",
              "\n",
              "<svg xmlns=\"http://www.w3.org/2000/svg\" height=\"24px\"viewBox=\"0 0 24 24\"\n",
              "     width=\"24px\">\n",
              "    <g>\n",
              "        <path d=\"M19 3H5c-1.1 0-2 .9-2 2v14c0 1.1.9 2 2 2h14c1.1 0 2-.9 2-2V5c0-1.1-.9-2-2-2zM9 17H7v-7h2v7zm4 0h-2V7h2v10zm4 0h-2v-4h2v4z\"/>\n",
              "    </g>\n",
              "</svg>\n",
              "  </button>\n",
              "\n",
              "<style>\n",
              "  .colab-df-quickchart {\n",
              "      --bg-color: #E8F0FE;\n",
              "      --fill-color: #1967D2;\n",
              "      --hover-bg-color: #E2EBFA;\n",
              "      --hover-fill-color: #174EA6;\n",
              "      --disabled-fill-color: #AAA;\n",
              "      --disabled-bg-color: #DDD;\n",
              "  }\n",
              "\n",
              "  [theme=dark] .colab-df-quickchart {\n",
              "      --bg-color: #3B4455;\n",
              "      --fill-color: #D2E3FC;\n",
              "      --hover-bg-color: #434B5C;\n",
              "      --hover-fill-color: #FFFFFF;\n",
              "      --disabled-bg-color: #3B4455;\n",
              "      --disabled-fill-color: #666;\n",
              "  }\n",
              "\n",
              "  .colab-df-quickchart {\n",
              "    background-color: var(--bg-color);\n",
              "    border: none;\n",
              "    border-radius: 50%;\n",
              "    cursor: pointer;\n",
              "    display: none;\n",
              "    fill: var(--fill-color);\n",
              "    height: 32px;\n",
              "    padding: 0;\n",
              "    width: 32px;\n",
              "  }\n",
              "\n",
              "  .colab-df-quickchart:hover {\n",
              "    background-color: var(--hover-bg-color);\n",
              "    box-shadow: 0 1px 2px rgba(60, 64, 67, 0.3), 0 1px 3px 1px rgba(60, 64, 67, 0.15);\n",
              "    fill: var(--button-hover-fill-color);\n",
              "  }\n",
              "\n",
              "  .colab-df-quickchart-complete:disabled,\n",
              "  .colab-df-quickchart-complete:disabled:hover {\n",
              "    background-color: var(--disabled-bg-color);\n",
              "    fill: var(--disabled-fill-color);\n",
              "    box-shadow: none;\n",
              "  }\n",
              "\n",
              "  .colab-df-spinner {\n",
              "    border: 2px solid var(--fill-color);\n",
              "    border-color: transparent;\n",
              "    border-bottom-color: var(--fill-color);\n",
              "    animation:\n",
              "      spin 1s steps(1) infinite;\n",
              "  }\n",
              "\n",
              "  @keyframes spin {\n",
              "    0% {\n",
              "      border-color: transparent;\n",
              "      border-bottom-color: var(--fill-color);\n",
              "      border-left-color: var(--fill-color);\n",
              "    }\n",
              "    20% {\n",
              "      border-color: transparent;\n",
              "      border-left-color: var(--fill-color);\n",
              "      border-top-color: var(--fill-color);\n",
              "    }\n",
              "    30% {\n",
              "      border-color: transparent;\n",
              "      border-left-color: var(--fill-color);\n",
              "      border-top-color: var(--fill-color);\n",
              "      border-right-color: var(--fill-color);\n",
              "    }\n",
              "    40% {\n",
              "      border-color: transparent;\n",
              "      border-right-color: var(--fill-color);\n",
              "      border-top-color: var(--fill-color);\n",
              "    }\n",
              "    60% {\n",
              "      border-color: transparent;\n",
              "      border-right-color: var(--fill-color);\n",
              "    }\n",
              "    80% {\n",
              "      border-color: transparent;\n",
              "      border-right-color: var(--fill-color);\n",
              "      border-bottom-color: var(--fill-color);\n",
              "    }\n",
              "    90% {\n",
              "      border-color: transparent;\n",
              "      border-bottom-color: var(--fill-color);\n",
              "    }\n",
              "  }\n",
              "</style>\n",
              "\n",
              "  <script>\n",
              "    async function quickchart(key) {\n",
              "      const quickchartButtonEl =\n",
              "        document.querySelector('#' + key + ' button');\n",
              "      quickchartButtonEl.disabled = true;  // To prevent multiple clicks.\n",
              "      quickchartButtonEl.classList.add('colab-df-spinner');\n",
              "      try {\n",
              "        const charts = await google.colab.kernel.invokeFunction(\n",
              "            'suggestCharts', [key], {});\n",
              "      } catch (error) {\n",
              "        console.error('Error during call to suggestCharts:', error);\n",
              "      }\n",
              "      quickchartButtonEl.classList.remove('colab-df-spinner');\n",
              "      quickchartButtonEl.classList.add('colab-df-quickchart-complete');\n",
              "    }\n",
              "    (() => {\n",
              "      let quickchartButtonEl =\n",
              "        document.querySelector('#df-776b2fc0-1f1b-4cb2-b649-b299e7a1b501 button');\n",
              "      quickchartButtonEl.style.display =\n",
              "        google.colab.kernel.accessAllowed ? 'block' : 'none';\n",
              "    })();\n",
              "  </script>\n",
              "</div>\n",
              "    </div>\n",
              "  </div>\n"
            ],
            "application/vnd.google.colaboratory.intrinsic+json": {
              "type": "dataframe",
              "variable_name": "dataframe",
              "summary": "{\n  \"name\": \"dataframe\",\n  \"rows\": 2,\n  \"fields\": [\n    {\n      \"column\": \"\\u0418\\u043c\\u044f\",\n      \"properties\": {\n        \"dtype\": \"string\",\n        \"num_unique_values\": 2,\n        \"samples\": [\n          \"\\u0421\\u0442\\u0438\\u0432\\u0435\\u043d \\u0421\\u0442\\u0438\\u0432\\u0435\\u043d\\u0441\\u043e\\u043d\",\n          \"\\u0414\\u0436\\u0435\\u043a\\u0438 \\u0414\\u0436\\u0435\\u043a\\u0441\\u043e\\u043d\"\n        ],\n        \"semantic_type\": \"\",\n        \"description\": \"\"\n      }\n    },\n    {\n      \"column\": \"\\u0412\\u043e\\u0437\\u0440\\u0430\\u0441\\u0442\",\n      \"properties\": {\n        \"dtype\": \"number\",\n        \"std\": 9,\n        \"min\": 25,\n        \"max\": 38,\n        \"num_unique_values\": 2,\n        \"samples\": [\n          25,\n          38\n        ],\n        \"semantic_type\": \"\",\n        \"description\": \"\"\n      }\n    },\n    {\n      \"column\": \"\\u0412\\u043e\\u0434\\u0438\\u0442\\u0435\\u043b\\u044c\",\n      \"properties\": {\n        \"dtype\": \"boolean\",\n        \"num_unique_values\": 2,\n        \"samples\": [\n          false,\n          true\n        ],\n        \"semantic_type\": \"\",\n        \"description\": \"\"\n      }\n    }\n  ]\n}"
            }
          },
          "metadata": {},
          "execution_count": 31
        }
      ],
      "source": [
        "import pandas as pd\n",
        "\n",
        "dataframe = pd.DataFrame()\n",
        "dataframe['Имя'] = ['Джеки Джексон', 'Стивен Стивенсон']\n",
        "dataframe['Возраст'] = [38,25]\n",
        "dataframe['Водитель'] = [True, False]\n",
        "dataframe"
      ]
    },
    {
      "cell_type": "markdown",
      "id": "2d01a177",
      "metadata": {
        "id": "2d01a177"
      },
      "source": [
        "**Пример 2.2.4.** Загрузите фрейм данных по ссылке:\n",
        "https://raw.githubusercontent.com/chrisalbon/simulated_datasets/master/titanic.csv"
      ]
    },
    {
      "cell_type": "code",
      "execution_count": null,
      "id": "33018193",
      "metadata": {
        "id": "33018193"
      },
      "outputs": [],
      "source": [
        "import pandas as pd\n",
        "\n",
        "url = 'https://raw.githubusercontent.com/chrisalbon/simulated_datasets/master/titanic.csv'\n",
        "dataframe = pd.read_csv(url)\n",
        "dataframe.head(5)"
      ]
    },
    {
      "cell_type": "markdown",
      "id": "2890af84",
      "metadata": {
        "id": "2890af84"
      },
      "source": [
        "**Пример 2.2.5.** Проанализировать характеристики фрейма данных."
      ]
    },
    {
      "cell_type": "code",
      "execution_count": null,
      "id": "1a6ca51a",
      "metadata": {
        "id": "1a6ca51a"
      },
      "outputs": [],
      "source": [
        "import pandas as pd\n",
        "\n",
        "url='https://raw.githubusercontent.com/chrisalbon/simulated_datasets/master/titanic.csv'\n",
        "dataframe = pd.read_csv(url)\n",
        "print(dataframe.head(2))\n",
        "print(dataframe.tail(3))\n",
        "print(dataframe.shape)\n",
        "print(dataframe.describe())"
      ]
    },
    {
      "cell_type": "markdown",
      "id": "58020572",
      "metadata": {
        "id": "58020572"
      },
      "source": [
        "**Пример 2.2.6.** Выберите индивидуальные данные или срезы фрейма данных."
      ]
    },
    {
      "cell_type": "code",
      "execution_count": null,
      "id": "85f231a2",
      "metadata": {
        "id": "85f231a2"
      },
      "outputs": [],
      "source": [
        "import pandas as pd\n",
        "\n",
        "url='https://raw.githubusercontent.com/chrisalbon/simulated_datasets/master/titanic.csv'\n",
        "dataframe = pd.read_csv(url)\n",
        "dataframe.iloc[1:4]"
      ]
    },
    {
      "cell_type": "markdown",
      "id": "bcef7ff8",
      "metadata": {
        "id": "bcef7ff8"
      },
      "source": [
        "**Пример 2.2.7.** Требуется отобрать строки фрейма данных на основе некоторого условия. Необходимо сформировать новый фрейм данных из пассажиров первого класса."
      ]
    },
    {
      "cell_type": "code",
      "execution_count": null,
      "id": "bcbb904f",
      "metadata": {
        "id": "bcbb904f"
      },
      "outputs": [],
      "source": [
        "import pandas as pd\n",
        "\n",
        "url='https://raw.githubusercontent.com/chrisalbon/simulated_datasets/master/titanic.csv'\n",
        "dataframe = pd.read_csv(url)\n",
        "dataframe[dataframe['PClass'] == '1st'].head(2)"
      ]
    },
    {
      "cell_type": "markdown",
      "id": "ee6c4758",
      "metadata": {
        "id": "ee6c4758"
      },
      "source": [
        "**Задание 2.3.1.** Найдите евклидово расстояние между двумя Series (точками) a и b, не\n",
        "используя встроенную формулу."
      ]
    },
    {
      "cell_type": "code",
      "execution_count": 37,
      "id": "aafc1201",
      "metadata": {
        "id": "aafc1201",
        "outputId": "9fa8702b-0867-4988-af46-144dc29e0d99",
        "colab": {
          "base_uri": "https://localhost:8080/"
        }
      },
      "outputs": [
        {
          "output_type": "stream",
          "name": "stdout",
          "text": [
            "3.4641016151377544\n"
          ]
        }
      ],
      "source": [
        "from pandas import *\n",
        "\n",
        "print(sum((Series([2, 6, 3, 8]) - Series([1, 9, 4, 7])) ** 2) ** 0.5)"
      ]
    },
    {
      "cell_type": "markdown",
      "id": "b6564391",
      "metadata": {
        "id": "b6564391"
      },
      "source": [
        "**Задание 2.3.2.** Найдите в Интернете ссылку на любой csv файл и сформируйте из него\n",
        "фрейм данных (например, коллекцию фреймов данных можно найти\n",
        "здесь: https://github.com/akmand/datasets)."
      ]
    },
    {
      "cell_type": "code",
      "execution_count": 46,
      "id": "ac585e1c",
      "metadata": {
        "id": "ac585e1c",
        "outputId": "1c4cd7e9-9547-43d7-9653-78adb78d4a39",
        "colab": {
          "base_uri": "https://localhost:8080/"
        }
      },
      "outputs": [
        {
          "output_type": "stream",
          "name": "stdout",
          "text": [
            "       1     2     3     4    5     6     7     8     9    10    11    12  \\\n",
            "0  14.23  1.71  2.43  15.6  127  2.80  3.06  0.28  2.29  5.64  1.04  3.92   \n",
            "1  13.20  1.78  2.14  11.2  100  2.65  2.76  0.26  1.28  4.38  1.05  3.40   \n",
            "2  13.16  2.36  2.67  18.6  101  2.80  3.24  0.30  2.81  5.68  1.03  3.17   \n",
            "3  14.37  1.95  2.50  16.8  113  3.85  3.49  0.24  2.18  7.80  0.86  3.45   \n",
            "4  13.24  2.59  2.87  21.0  118  2.80  2.69  0.39  1.82  4.32  1.04  2.93   \n",
            "\n",
            "     13  y  \n",
            "0  1065  1  \n",
            "1  1050  1  \n",
            "2  1185  1  \n",
            "3  1480  1  \n",
            "4   735  1  \n"
          ]
        }
      ],
      "source": [
        "from pandas import *\n",
        "\n",
        "print(read_csv('https://raw.githubusercontent.com/akmand/datasets/main/wine.csv').head())"
      ]
    },
    {
      "cell_type": "markdown",
      "id": "eb19497e",
      "metadata": {
        "id": "eb19497e"
      },
      "source": [
        "**Задание 2.3.3.** Проделайте с получившемся из предыдущего задания фреймом данных\n",
        "те же действия, что и в примерах 2.2.5-2.2.7."
      ]
    },
    {
      "cell_type": "code",
      "execution_count": 47,
      "id": "b79b317b",
      "metadata": {
        "id": "b79b317b",
        "outputId": "1705538e-3fc6-441e-90fe-559f94c59ceb",
        "colab": {
          "base_uri": "https://localhost:8080/"
        }
      },
      "outputs": [
        {
          "output_type": "stream",
          "name": "stdout",
          "text": [
            "Index(['1', '2', '3', '4', '5', '6', '7', '8', '9', '10', '11', '12', '13',\n",
            "       'y'],\n",
            "      dtype='object')\n",
            "       1     2     3     4    5     6     7     8     9    10    11    12  \\\n",
            "0  14.23  1.71  2.43  15.6  127  2.80  3.06  0.28  2.29  5.64  1.04  3.92   \n",
            "1  13.20  1.78  2.14  11.2  100  2.65  2.76  0.26  1.28  4.38  1.05  3.40   \n",
            "\n",
            "     13  y  \n",
            "0  1065  1  \n",
            "1  1050  1  \n",
            "\n",
            "\n",
            "         1     2     3     4    5     6     7     8     9    10    11    12  \\\n",
            "175  13.27  4.28  2.26  20.0  120  1.59  0.69  0.43  1.35  10.2  0.59  1.56   \n",
            "176  13.17  2.59  2.37  20.0  120  1.65  0.68  0.53  1.46   9.3  0.60  1.62   \n",
            "177  14.13  4.10  2.74  24.5   96  2.05  0.76  0.56  1.35   9.2  0.61  1.60   \n",
            "\n",
            "      13  y  \n",
            "175  835  3  \n",
            "176  840  3  \n",
            "177  560  3  \n",
            "\n",
            "\n",
            "(178, 14)\n",
            "\n",
            "\n",
            "                1           2           3           4           5           6  \\\n",
            "count  178.000000  178.000000  178.000000  178.000000  178.000000  178.000000   \n",
            "mean    13.000618    2.336348    2.366517   19.494944   99.741573    2.295112   \n",
            "std      0.811827    1.117146    0.274344    3.339564   14.282484    0.625851   \n",
            "min     11.030000    0.740000    1.360000   10.600000   70.000000    0.980000   \n",
            "25%     12.362500    1.602500    2.210000   17.200000   88.000000    1.742500   \n",
            "50%     13.050000    1.865000    2.360000   19.500000   98.000000    2.355000   \n",
            "75%     13.677500    3.082500    2.557500   21.500000  107.000000    2.800000   \n",
            "max     14.830000    5.800000    3.230000   30.000000  162.000000    3.880000   \n",
            "\n",
            "                7           8           9          10          11          12  \\\n",
            "count  178.000000  178.000000  178.000000  178.000000  178.000000  178.000000   \n",
            "mean     2.029270    0.361854    1.590899    5.058090    0.957449    2.611685   \n",
            "std      0.998859    0.124453    0.572359    2.318286    0.228572    0.709990   \n",
            "min      0.340000    0.130000    0.410000    1.280000    0.480000    1.270000   \n",
            "25%      1.205000    0.270000    1.250000    3.220000    0.782500    1.937500   \n",
            "50%      2.135000    0.340000    1.555000    4.690000    0.965000    2.780000   \n",
            "75%      2.875000    0.437500    1.950000    6.200000    1.120000    3.170000   \n",
            "max      5.080000    0.660000    3.580000   13.000000    1.710000    4.000000   \n",
            "\n",
            "                13           y  \n",
            "count   178.000000  178.000000  \n",
            "mean    746.893258    1.938202  \n",
            "std     314.907474    0.775035  \n",
            "min     278.000000    1.000000  \n",
            "25%     500.500000    1.000000  \n",
            "50%     673.500000    2.000000  \n",
            "75%     985.000000    3.000000  \n",
            "max    1680.000000    3.000000  \n",
            "\n",
            "\n",
            "0      14.23\n",
            "1      13.20\n",
            "2      13.16\n",
            "3      14.37\n",
            "4      13.24\n",
            "       ...  \n",
            "173    13.71\n",
            "174    13.40\n",
            "175    13.27\n",
            "176    13.17\n",
            "177    14.13\n",
            "Name: 1, Length: 178, dtype: float64\n",
            "\n",
            "\n",
            "      4    5     6\n",
            "2  18.6  101  2.80\n",
            "3  16.8  113  3.85\n",
            "4  21.0  118  2.80\n",
            "\n",
            "\n",
            "       1     2     3     4    5     6     7     8     9    10    11    12  \\\n",
            "0  14.23  1.71  2.43  15.6  127  2.80  3.06  0.28  2.29  5.64  1.04  3.92   \n",
            "1  13.20  1.78  2.14  11.2  100  2.65  2.76  0.26  1.28  4.38  1.05  3.40   \n",
            "2  13.16  2.36  2.67  18.6  101  2.80  3.24  0.30  2.81  5.68  1.03  3.17   \n",
            "3  14.37  1.95  2.50  16.8  113  3.85  3.49  0.24  2.18  7.80  0.86  3.45   \n",
            "4  13.24  2.59  2.87  21.0  118  2.80  2.69  0.39  1.82  4.32  1.04  2.93   \n",
            "\n",
            "     13  y  \n",
            "0  1065  1  \n",
            "1  1050  1  \n",
            "2  1185  1  \n",
            "3  1480  1  \n",
            "4   735  1  \n"
          ]
        }
      ],
      "source": [
        "from pandas import *\n",
        "\n",
        "dataframe = pd.read_csv('https://raw.githubusercontent.com/akmand/datasets/main/wine.csv')\n",
        "\n",
        "print(dataframe.columns)\n",
        "print(dataframe.head(2))\n",
        "print(\"\\n\")\n",
        "print(dataframe.tail(3))\n",
        "print(\"\\n\")\n",
        "print(dataframe.shape)\n",
        "print(\"\\n\")\n",
        "print(dataframe.describe())\n",
        "print(\"\\n\")\n",
        "\n",
        "print(dataframe['1'])\n",
        "print(\"\\n\")\n",
        "print(dataframe.iloc[2:5, 3:6])\n",
        "print(\"\\n\")\n",
        "\n",
        "filtered_df = dataframe[dataframe['1'] > 13.0]\n",
        "print(filtered_df.head())"
      ]
    },
    {
      "cell_type": "markdown",
      "id": "7545e967",
      "metadata": {
        "id": "7545e967"
      },
      "source": [
        "**Пример 3.2.1.** Прошкалируйте числовой признак в диапазон между двумя значениями."
      ]
    },
    {
      "cell_type": "code",
      "execution_count": 48,
      "id": "6794bc0f",
      "metadata": {
        "id": "6794bc0f",
        "outputId": "debbf74d-5e2d-4441-f0bb-22ef5fbc63ac",
        "colab": {
          "base_uri": "https://localhost:8080/"
        }
      },
      "outputs": [
        {
          "output_type": "execute_result",
          "data": {
            "text/plain": [
              "array([[0.        ],\n",
              "       [0.28571429],\n",
              "       [0.35714286],\n",
              "       [0.42857143],\n",
              "       [1.        ]])"
            ]
          },
          "metadata": {},
          "execution_count": 48
        }
      ],
      "source": [
        "import numpy as np\n",
        "from sklearn import preprocessing\n",
        "\n",
        "feature = np.array([[-500.5], [-100.1], [0], [100.1], [900.9]])\n",
        "minmax_scale = preprocessing.MinMaxScaler(feature_range=(0, 1))\n",
        "scaled_feature = minmax_scale.fit_transform(feature)\n",
        "scaled_feature"
      ]
    },
    {
      "cell_type": "markdown",
      "id": "7c37d40a",
      "metadata": {
        "id": "7c37d40a"
      },
      "source": [
        "**Пример 3.2.2.** Преобразуйте признак, чтобы он имел среднее значение 0 и стандартное отклонение 1."
      ]
    },
    {
      "cell_type": "code",
      "execution_count": 49,
      "id": "89594919",
      "metadata": {
        "id": "89594919",
        "outputId": "128c2d82-6d74-4c16-d2dc-947b0306d22e",
        "colab": {
          "base_uri": "https://localhost:8080/"
        }
      },
      "outputs": [
        {
          "output_type": "stream",
          "name": "stdout",
          "text": [
            "Среднее: 0\n",
            "Стандартное отклонение: 1.0\n"
          ]
        },
        {
          "output_type": "execute_result",
          "data": {
            "text/plain": [
              "array([[-0.76058269],\n",
              "       [-0.54177196],\n",
              "       [-0.35009716],\n",
              "       [-0.32271504],\n",
              "       [ 1.97516685]])"
            ]
          },
          "metadata": {},
          "execution_count": 49
        }
      ],
      "source": [
        "import numpy as np\n",
        "from sklearn import preprocessing\n",
        "\n",
        "x=np.array([[-1000.1], [-200.2], [500.5], [600.6], [9000.9]])\n",
        "scaler = preprocessing.StandardScaler()\n",
        "standardized=scaler.fit_transform(x)\n",
        "\n",
        "print(\"Среднее:\", round(standardized.mean()))\n",
        "print(\"Стандартное отклонение:\", standardized.std())\n",
        "standardized"
      ]
    },
    {
      "cell_type": "markdown",
      "id": "e607341b",
      "metadata": {
        "id": "e607341b"
      },
      "source": [
        "**Пример 3.2.3.** Дан фрейм данных\n",
        "dfTest = pd.DataFrame({'A':[14.00,90.20,90.95,96.27,91.21],\n",
        "    'B':[103.02,107.26,110.35,114.23,114.68],\n",
        "    'C':['big','small','big','small','small']})\n",
        "Необходимо масштабировать его числовые столбцы."
      ]
    },
    {
      "cell_type": "code",
      "execution_count": 51,
      "id": "0599d92f",
      "metadata": {
        "id": "0599d92f",
        "outputId": "823cab27-b609-425c-c366-077c20b8a0f8",
        "colab": {
          "base_uri": "https://localhost:8080/",
          "height": 206
        }
      },
      "outputs": [
        {
          "output_type": "execute_result",
          "data": {
            "text/plain": [
              "          A         B      C\n",
              "0  0.000000  0.000000    big\n",
              "1  0.926219  0.363636  small\n",
              "2  0.935335  0.628645    big\n",
              "3  1.000000  0.961407  small\n",
              "4  0.938495  1.000000  small"
            ],
            "text/html": [
              "\n",
              "  <div id=\"df-cd9b850b-0ca7-4ffc-8533-0a0f83d3cfbb\" class=\"colab-df-container\">\n",
              "    <div>\n",
              "<style scoped>\n",
              "    .dataframe tbody tr th:only-of-type {\n",
              "        vertical-align: middle;\n",
              "    }\n",
              "\n",
              "    .dataframe tbody tr th {\n",
              "        vertical-align: top;\n",
              "    }\n",
              "\n",
              "    .dataframe thead th {\n",
              "        text-align: right;\n",
              "    }\n",
              "</style>\n",
              "<table border=\"1\" class=\"dataframe\">\n",
              "  <thead>\n",
              "    <tr style=\"text-align: right;\">\n",
              "      <th></th>\n",
              "      <th>A</th>\n",
              "      <th>B</th>\n",
              "      <th>C</th>\n",
              "    </tr>\n",
              "  </thead>\n",
              "  <tbody>\n",
              "    <tr>\n",
              "      <th>0</th>\n",
              "      <td>0.000000</td>\n",
              "      <td>0.000000</td>\n",
              "      <td>big</td>\n",
              "    </tr>\n",
              "    <tr>\n",
              "      <th>1</th>\n",
              "      <td>0.926219</td>\n",
              "      <td>0.363636</td>\n",
              "      <td>small</td>\n",
              "    </tr>\n",
              "    <tr>\n",
              "      <th>2</th>\n",
              "      <td>0.935335</td>\n",
              "      <td>0.628645</td>\n",
              "      <td>big</td>\n",
              "    </tr>\n",
              "    <tr>\n",
              "      <th>3</th>\n",
              "      <td>1.000000</td>\n",
              "      <td>0.961407</td>\n",
              "      <td>small</td>\n",
              "    </tr>\n",
              "    <tr>\n",
              "      <th>4</th>\n",
              "      <td>0.938495</td>\n",
              "      <td>1.000000</td>\n",
              "      <td>small</td>\n",
              "    </tr>\n",
              "  </tbody>\n",
              "</table>\n",
              "</div>\n",
              "    <div class=\"colab-df-buttons\">\n",
              "\n",
              "  <div class=\"colab-df-container\">\n",
              "    <button class=\"colab-df-convert\" onclick=\"convertToInteractive('df-cd9b850b-0ca7-4ffc-8533-0a0f83d3cfbb')\"\n",
              "            title=\"Convert this dataframe to an interactive table.\"\n",
              "            style=\"display:none;\">\n",
              "\n",
              "  <svg xmlns=\"http://www.w3.org/2000/svg\" height=\"24px\" viewBox=\"0 -960 960 960\">\n",
              "    <path d=\"M120-120v-720h720v720H120Zm60-500h600v-160H180v160Zm220 220h160v-160H400v160Zm0 220h160v-160H400v160ZM180-400h160v-160H180v160Zm440 0h160v-160H620v160ZM180-180h160v-160H180v160Zm440 0h160v-160H620v160Z\"/>\n",
              "  </svg>\n",
              "    </button>\n",
              "\n",
              "  <style>\n",
              "    .colab-df-container {\n",
              "      display:flex;\n",
              "      gap: 12px;\n",
              "    }\n",
              "\n",
              "    .colab-df-convert {\n",
              "      background-color: #E8F0FE;\n",
              "      border: none;\n",
              "      border-radius: 50%;\n",
              "      cursor: pointer;\n",
              "      display: none;\n",
              "      fill: #1967D2;\n",
              "      height: 32px;\n",
              "      padding: 0 0 0 0;\n",
              "      width: 32px;\n",
              "    }\n",
              "\n",
              "    .colab-df-convert:hover {\n",
              "      background-color: #E2EBFA;\n",
              "      box-shadow: 0px 1px 2px rgba(60, 64, 67, 0.3), 0px 1px 3px 1px rgba(60, 64, 67, 0.15);\n",
              "      fill: #174EA6;\n",
              "    }\n",
              "\n",
              "    .colab-df-buttons div {\n",
              "      margin-bottom: 4px;\n",
              "    }\n",
              "\n",
              "    [theme=dark] .colab-df-convert {\n",
              "      background-color: #3B4455;\n",
              "      fill: #D2E3FC;\n",
              "    }\n",
              "\n",
              "    [theme=dark] .colab-df-convert:hover {\n",
              "      background-color: #434B5C;\n",
              "      box-shadow: 0px 1px 3px 1px rgba(0, 0, 0, 0.15);\n",
              "      filter: drop-shadow(0px 1px 2px rgba(0, 0, 0, 0.3));\n",
              "      fill: #FFFFFF;\n",
              "    }\n",
              "  </style>\n",
              "\n",
              "    <script>\n",
              "      const buttonEl =\n",
              "        document.querySelector('#df-cd9b850b-0ca7-4ffc-8533-0a0f83d3cfbb button.colab-df-convert');\n",
              "      buttonEl.style.display =\n",
              "        google.colab.kernel.accessAllowed ? 'block' : 'none';\n",
              "\n",
              "      async function convertToInteractive(key) {\n",
              "        const element = document.querySelector('#df-cd9b850b-0ca7-4ffc-8533-0a0f83d3cfbb');\n",
              "        const dataTable =\n",
              "          await google.colab.kernel.invokeFunction('convertToInteractive',\n",
              "                                                    [key], {});\n",
              "        if (!dataTable) return;\n",
              "\n",
              "        const docLinkHtml = 'Like what you see? Visit the ' +\n",
              "          '<a target=\"_blank\" href=https://colab.research.google.com/notebooks/data_table.ipynb>data table notebook</a>'\n",
              "          + ' to learn more about interactive tables.';\n",
              "        element.innerHTML = '';\n",
              "        dataTable['output_type'] = 'display_data';\n",
              "        await google.colab.output.renderOutput(dataTable, element);\n",
              "        const docLink = document.createElement('div');\n",
              "        docLink.innerHTML = docLinkHtml;\n",
              "        element.appendChild(docLink);\n",
              "      }\n",
              "    </script>\n",
              "  </div>\n",
              "\n",
              "\n",
              "<div id=\"df-f0095f6e-539f-4e3d-b3fa-7a4e883e61c4\">\n",
              "  <button class=\"colab-df-quickchart\" onclick=\"quickchart('df-f0095f6e-539f-4e3d-b3fa-7a4e883e61c4')\"\n",
              "            title=\"Suggest charts\"\n",
              "            style=\"display:none;\">\n",
              "\n",
              "<svg xmlns=\"http://www.w3.org/2000/svg\" height=\"24px\"viewBox=\"0 0 24 24\"\n",
              "     width=\"24px\">\n",
              "    <g>\n",
              "        <path d=\"M19 3H5c-1.1 0-2 .9-2 2v14c0 1.1.9 2 2 2h14c1.1 0 2-.9 2-2V5c0-1.1-.9-2-2-2zM9 17H7v-7h2v7zm4 0h-2V7h2v10zm4 0h-2v-4h2v4z\"/>\n",
              "    </g>\n",
              "</svg>\n",
              "  </button>\n",
              "\n",
              "<style>\n",
              "  .colab-df-quickchart {\n",
              "      --bg-color: #E8F0FE;\n",
              "      --fill-color: #1967D2;\n",
              "      --hover-bg-color: #E2EBFA;\n",
              "      --hover-fill-color: #174EA6;\n",
              "      --disabled-fill-color: #AAA;\n",
              "      --disabled-bg-color: #DDD;\n",
              "  }\n",
              "\n",
              "  [theme=dark] .colab-df-quickchart {\n",
              "      --bg-color: #3B4455;\n",
              "      --fill-color: #D2E3FC;\n",
              "      --hover-bg-color: #434B5C;\n",
              "      --hover-fill-color: #FFFFFF;\n",
              "      --disabled-bg-color: #3B4455;\n",
              "      --disabled-fill-color: #666;\n",
              "  }\n",
              "\n",
              "  .colab-df-quickchart {\n",
              "    background-color: var(--bg-color);\n",
              "    border: none;\n",
              "    border-radius: 50%;\n",
              "    cursor: pointer;\n",
              "    display: none;\n",
              "    fill: var(--fill-color);\n",
              "    height: 32px;\n",
              "    padding: 0;\n",
              "    width: 32px;\n",
              "  }\n",
              "\n",
              "  .colab-df-quickchart:hover {\n",
              "    background-color: var(--hover-bg-color);\n",
              "    box-shadow: 0 1px 2px rgba(60, 64, 67, 0.3), 0 1px 3px 1px rgba(60, 64, 67, 0.15);\n",
              "    fill: var(--button-hover-fill-color);\n",
              "  }\n",
              "\n",
              "  .colab-df-quickchart-complete:disabled,\n",
              "  .colab-df-quickchart-complete:disabled:hover {\n",
              "    background-color: var(--disabled-bg-color);\n",
              "    fill: var(--disabled-fill-color);\n",
              "    box-shadow: none;\n",
              "  }\n",
              "\n",
              "  .colab-df-spinner {\n",
              "    border: 2px solid var(--fill-color);\n",
              "    border-color: transparent;\n",
              "    border-bottom-color: var(--fill-color);\n",
              "    animation:\n",
              "      spin 1s steps(1) infinite;\n",
              "  }\n",
              "\n",
              "  @keyframes spin {\n",
              "    0% {\n",
              "      border-color: transparent;\n",
              "      border-bottom-color: var(--fill-color);\n",
              "      border-left-color: var(--fill-color);\n",
              "    }\n",
              "    20% {\n",
              "      border-color: transparent;\n",
              "      border-left-color: var(--fill-color);\n",
              "      border-top-color: var(--fill-color);\n",
              "    }\n",
              "    30% {\n",
              "      border-color: transparent;\n",
              "      border-left-color: var(--fill-color);\n",
              "      border-top-color: var(--fill-color);\n",
              "      border-right-color: var(--fill-color);\n",
              "    }\n",
              "    40% {\n",
              "      border-color: transparent;\n",
              "      border-right-color: var(--fill-color);\n",
              "      border-top-color: var(--fill-color);\n",
              "    }\n",
              "    60% {\n",
              "      border-color: transparent;\n",
              "      border-right-color: var(--fill-color);\n",
              "    }\n",
              "    80% {\n",
              "      border-color: transparent;\n",
              "      border-right-color: var(--fill-color);\n",
              "      border-bottom-color: var(--fill-color);\n",
              "    }\n",
              "    90% {\n",
              "      border-color: transparent;\n",
              "      border-bottom-color: var(--fill-color);\n",
              "    }\n",
              "  }\n",
              "</style>\n",
              "\n",
              "  <script>\n",
              "    async function quickchart(key) {\n",
              "      const quickchartButtonEl =\n",
              "        document.querySelector('#' + key + ' button');\n",
              "      quickchartButtonEl.disabled = true;  // To prevent multiple clicks.\n",
              "      quickchartButtonEl.classList.add('colab-df-spinner');\n",
              "      try {\n",
              "        const charts = await google.colab.kernel.invokeFunction(\n",
              "            'suggestCharts', [key], {});\n",
              "      } catch (error) {\n",
              "        console.error('Error during call to suggestCharts:', error);\n",
              "      }\n",
              "      quickchartButtonEl.classList.remove('colab-df-spinner');\n",
              "      quickchartButtonEl.classList.add('colab-df-quickchart-complete');\n",
              "    }\n",
              "    (() => {\n",
              "      let quickchartButtonEl =\n",
              "        document.querySelector('#df-f0095f6e-539f-4e3d-b3fa-7a4e883e61c4 button');\n",
              "      quickchartButtonEl.style.display =\n",
              "        google.colab.kernel.accessAllowed ? 'block' : 'none';\n",
              "    })();\n",
              "  </script>\n",
              "</div>\n",
              "    </div>\n",
              "  </div>\n"
            ],
            "application/vnd.google.colaboratory.intrinsic+json": {
              "type": "dataframe",
              "variable_name": "dfTest",
              "summary": "{\n  \"name\": \"dfTest\",\n  \"rows\": 5,\n  \"fields\": [\n    {\n      \"column\": \"A\",\n      \"properties\": {\n        \"dtype\": \"number\",\n        \"std\": 0.42586132106217445,\n        \"min\": 0.0,\n        \"max\": 1.0,\n        \"num_unique_values\": 5,\n        \"samples\": [\n          0.9262185486811719,\n          0.9384951987358697,\n          0.9353348729792149\n        ],\n        \"semantic_type\": \"\",\n        \"description\": \"\"\n      }\n    },\n    {\n      \"column\": \"B\",\n      \"properties\": {\n        \"dtype\": \"number\",\n        \"std\": 0.42037899830617165,\n        \"min\": 0.0,\n        \"max\": 1.0,\n        \"num_unique_values\": 5,\n        \"samples\": [\n          0.3636363636363651,\n          1.0,\n          0.6286449399656941\n        ],\n        \"semantic_type\": \"\",\n        \"description\": \"\"\n      }\n    },\n    {\n      \"column\": \"C\",\n      \"properties\": {\n        \"dtype\": \"category\",\n        \"num_unique_values\": 2,\n        \"samples\": [\n          \"small\",\n          \"big\"\n        ],\n        \"semantic_type\": \"\",\n        \"description\": \"\"\n      }\n    }\n  ]\n}"
            }
          },
          "metadata": {},
          "execution_count": 51
        }
      ],
      "source": [
        "import pandas as pd\n",
        "from sklearn.preprocessing import MinMaxScaler\n",
        "\n",
        "scaler = MinMaxScaler()\n",
        "dfTest = pd.DataFrame({\n",
        "  'A': [14.00, 90.20, 90.95, 96.27, 91.21],\n",
        "  'B': [103.02,107.26,110.35,114.23,114.68],\n",
        "  'C': ['big', 'small', 'big', 'small', 'small']\n",
        "})\n",
        "\n",
        "dfTest[['A', 'B']] = scaler.fit_transform(dfTest[['A', 'B']])\n",
        "dfTest"
      ]
    },
    {
      "cell_type": "markdown",
      "id": "2e426e41",
      "metadata": {
        "id": "2e426e41"
      },
      "source": [
        "**Задание 3.3.2.** Загрузить фрейм данных по ссылке:\n",
        "https://raw.githubusercontent.com/akmand/datasets/master/iris.csv.\n",
        "Необходимо выполнить нормализацию первого числового признака\n",
        "(sepal_length_cm) с использованием минимаксного преобразования, а\n",
        "второго (sepal_width_cm) с задействованием z-масштабирования."
      ]
    },
    {
      "cell_type": "code",
      "execution_count": 52,
      "id": "f7497f20",
      "metadata": {
        "id": "f7497f20",
        "outputId": "7f58663a-2d8a-4091-b4fd-b2b90502ec40",
        "colab": {
          "base_uri": "https://localhost:8080/"
        }
      },
      "outputs": [
        {
          "output_type": "stream",
          "name": "stdout",
          "text": [
            "   sepal_length_cm  sepal_width_cm  petal_length_cm  petal_width_cm\n",
            "0         0.222222        1.032057              1.4             0.2\n",
            "1         0.166667       -0.124958              1.4             0.2\n"
          ]
        }
      ],
      "source": [
        "import pandas as pd\n",
        "from sklearn.preprocessing import MinMaxScaler, StandardScaler\n",
        "\n",
        "df = pd.read_csv('https://raw.githubusercontent.com/akmand/datasets/master/iris.csv')\n",
        "\n",
        "X = df.drop('species', axis=1)\n",
        "y = df['species']\n",
        "\n",
        "scaler_minmax = MinMaxScaler()\n",
        "X['sepal_length_cm'] = scaler_minmax.fit_transform(X[['sepal_length_cm']])\n",
        "\n",
        "scaler_z = StandardScaler()\n",
        "X['sepal_width_cm'] = scaler_z.fit_transform(X[['sepal_width_cm']])\n",
        "\n",
        "print(X.head(2))"
      ]
    }
  ],
  "metadata": {
    "kernelspec": {
      "display_name": "Python 3 (ipykernel)",
      "language": "python",
      "name": "python3"
    },
    "language_info": {
      "codemirror_mode": {
        "name": "ipython",
        "version": 3
      },
      "file_extension": ".py",
      "mimetype": "text/x-python",
      "name": "python",
      "nbconvert_exporter": "python",
      "pygments_lexer": "ipython3",
      "version": "3.9.13"
    },
    "colab": {
      "provenance": [],
      "include_colab_link": true
    }
  },
  "nbformat": 4,
  "nbformat_minor": 5
}