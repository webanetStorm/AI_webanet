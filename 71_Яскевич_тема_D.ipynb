{
  "cells": [
    {
      "cell_type": "markdown",
      "metadata": {
        "id": "view-in-github",
        "colab_type": "text"
      },
      "source": [
        "<a href=\"https://colab.research.google.com/github/webanetStorm/AI_webanet/blob/master/71_%D0%AF%D1%81%D0%BA%D0%B5%D0%B2%D0%B8%D1%87_%D1%82%D0%B5%D0%BC%D0%B0_D.ipynb\" target=\"_parent\"><img src=\"https://colab.research.google.com/assets/colab-badge.svg\" alt=\"Open In Colab\"/></a>"
      ]
    },
    {
      "cell_type": "markdown",
      "id": "7c09cdc6",
      "metadata": {
        "id": "7c09cdc6"
      },
      "source": [
        "# Ознакомительная практика. Тема D. 71_Яскевич"
      ]
    },
    {
      "cell_type": "markdown",
      "id": "21117e9a",
      "metadata": {
        "id": "21117e9a"
      },
      "source": [
        "В каждом задании обязательно использование модуля, которому посвящено задание"
      ]
    },
    {
      "cell_type": "markdown",
      "id": "8025a5eb",
      "metadata": {
        "id": "8025a5eb"
      },
      "source": [
        "### ЗАДАНИЕ D1. Модули PICKLE и DATETIME\n"
      ]
    },
    {
      "cell_type": "markdown",
      "id": "94423bc7",
      "metadata": {
        "id": "94423bc7"
      },
      "source": [
        "Выполняется на основе выполненного задания третьей темы. 1) Необходимо создать текстовый файл и реализовать функцию логирования (без использования модуля logging). Функция должна вызываться из каждого метода ранее реализованных классов и записывать в файл строки следующего содержания: КЛЮЧ --- ДАТА И ВРЕМЯ --- КОММЕНТАРИЙ. Ключи: CRE (создание экземпляра класса), INF (изменение), ERR (сработало исключение). Комментарий: создано …, удален …, добавлен …, распечатан … 2) Создать заполненные экземпляры реализованных класса, сериализовать их. В другом питоновском файле импортировать файл с описанием класса и десериализовать объекты. Применить к десериализованным объектам различные методы.\n"
      ]
    },
    {
      "cell_type": "code",
      "execution_count": 83,
      "id": "a0c4a400",
      "metadata": {
        "id": "a0c4a400"
      },
      "outputs": [],
      "source": [
        "import datetime\n",
        "import pickle\n",
        "\n",
        "\n",
        "def log(action_key, comment):\n",
        "    with open('logs.txt', 'a') as file:\n",
        "        current_time = datetime.datetime.now().strftime('%Y-%m-%d %H:%M:%S')\n",
        "        file.write(f'{action_key} --- {current_time} --- {comment}\\n')\n",
        "\n",
        "\n",
        "class Person:\n",
        "\n",
        "    def __init__(self, first_name, last_name, age):\n",
        "        if not isinstance(age, int) or age < 0:\n",
        "            raise ValueError('Некорректный возраст')\n",
        "\n",
        "        self.first_name = first_name\n",
        "        self.last_name = last_name\n",
        "        self.age = age\n",
        "\n",
        "class Student(Person):\n",
        "\n",
        "    def __init__(self, first_name, last_name, age, group):\n",
        "        self.group = group\n",
        "        super().__init__(first_name, last_name, age)\n",
        "        self.diary = {}\n",
        "        log('CRE', f'Создан {self}')\n",
        "\n",
        "    def add_mark(self, subject, date, mark):\n",
        "        try:\n",
        "            if not 2 <= mark <= 5:\n",
        "                raise ValueError('Некорректная оценка')\n",
        "            if subject not in self.diary:\n",
        "                self.diary[subject] = {}\n",
        "            self.diary[subject][date] = mark\n",
        "            log('INF', f'Добавлена оценка: {mark} по предмету {subject} для {self.first_name} {self.last_name}')\n",
        "        except ValueError as e:\n",
        "            log('ERR', f'Ошибка при добавлении оценки: {e}')\n",
        "\n",
        "    def get_marks(self, subject):\n",
        "        try:\n",
        "            if subject not in self.diary:\n",
        "                raise ValueError('Предмет в дневнике не найден')\n",
        "            return self.diary[subject]\n",
        "        except ValueError as e:\n",
        "            log('ERR', f'Ошибка при получении оценок: {e}')\n",
        "\n",
        "    def print_diary(self):\n",
        "        for subject, marks in self.diary.items():\n",
        "            print(f'{subject}:')\n",
        "            for date, mark in marks.items():\n",
        "                print(f'\\t{date}: {mark}')\n",
        "\n",
        "    def __str__(self):\n",
        "        return f'{self.first_name} {self.last_name}, возраст: {self.age}, класс: {self.group}'\n",
        "\n",
        "\n",
        "class Teacher(Person):\n",
        "\n",
        "    def __init__(self, first_name, last_name, age, office_number):\n",
        "        Person.__init__(self, first_name, last_name, age)\n",
        "        self.office_number = office_number\n",
        "        self.subjects = {}\n",
        "        log('CRE', f'Создан {self}')\n",
        "\n",
        "    def __str__(self):\n",
        "        return f'{self.first_name} {self.last_name}, возраст: {self.age}'\n",
        "\n",
        "    def __init__(self, first_name, last_name, age, office_number):\n",
        "        Person.__init__(self, first_name, last_name, age)\n",
        "        self.office_number = office_number\n",
        "        self.subjects = {}\n",
        "        log('CRE', f'Создан {self}')\n",
        "\n",
        "    def change_office(self, new_office_number):\n",
        "        self.office_number = new_office_number\n",
        "        log('INF', f'Изменен кабинет у {self.first_name} {self.last_name} на {new_office_number}')\n",
        "\n",
        "    def add_subject(self, group, subject):\n",
        "        if group not in self.subjects:\n",
        "            self.subjects[group] = []\n",
        "        if subject not in self.subjects[group]:\n",
        "            self.subjects[group].append(subject)\n",
        "            log('INF', f'Добавлен предмет {subject} для группы {group}')\n",
        "\n",
        "    def remove_subject(self, group, subject):\n",
        "        if group in self.subjects and subject in self.subjects[group]:\n",
        "            self.subjects[group].remove(subject)\n",
        "            log('INF', f'Удален предмет {subject} из группы {group}')\n",
        "\n",
        "\n",
        "class Class:\n",
        "    def __init__(self, class_number, students_list, class_teacher):\n",
        "        self.class_number = class_number\n",
        "        self.students = students_list\n",
        "        self.class_teacher = class_teacher\n",
        "        log('CRE', f'Создан {self}')\n",
        "\n",
        "    def __str__(self):\n",
        "        class_info = f'Класс: {self.class_number}\\n'\n",
        "        class_info += f'Классный руководитель: {str(self.class_teacher)}\\n'\n",
        "        class_info += 'Ученики:\\n'\n",
        "        for student in self.students:\n",
        "            class_info += f'{str(student)}\\n'\n",
        "        return class_info\n",
        "\n",
        "    def __len__(self):\n",
        "        return len(self.students)\n",
        "\n",
        "    def __getitem__(self, index):\n",
        "        if index == 0:\n",
        "            return self.class_teacher\n",
        "        elif 1 <= index <= len(self.students):\n",
        "            return self.students[index - 1]\n",
        "        else:\n",
        "            raise IndexError('Выход за пределы списка')\n",
        "\n",
        "    def __setitem__(self, index, value):\n",
        "        if index == 0:\n",
        "            self.class_teacher = value\n",
        "        elif 1 <= index <= len(self.students):\n",
        "            self.students[index - 1] = value\n",
        "        else:\n",
        "            raise IndexError('Выход за пределы списка')\n",
        "\n",
        "    def __delitem__(self, index):\n",
        "        if 1 <= index <= len(self.students):\n",
        "            del self.students[index - 1]\n",
        "\n",
        "    def __add__(self, student):\n",
        "        self.students.append(student)\n",
        "        return self\n",
        "\n",
        "    def __sub__(self, student):\n",
        "        self.students.remove(student)\n",
        "        return self\n",
        "\n",
        "    def save_to_file(self, filename):\n",
        "        with open(filename, 'w') as file:\n",
        "            file.write(str(self))\n",
        "            for student in self.students:\n",
        "                file.write(f'Дневник {student.first_name} {student.last_name}:\\n')\n",
        "                for subject, marks in student.diary.items():\n",
        "                    file.write(f'{subject}:\\n')\n",
        "                    for date, mark in marks.items():\n",
        "                        file.write(f'\\t{date}: {mark}\\n')\n",
        "\n",
        "\n",
        "student1 = Student('Иван', 'Иванов', 16, '10Б')\n",
        "student2 = Student('Антон', 'Антонов', 15, '8Б')\n",
        "student3 = Student('Сергей', 'Сергеев', 15, '8Б')\n",
        "teacher1 = Teacher('Мария', 'Петрова', 40, '102')\n",
        "teacher2 = Teacher('Анна', 'Сергеевна', 35, '101')\n",
        "class_group1 = Class('10Б', [student1], teacher1)\n",
        "class_group2 = Class('8Б', [student2, student3], teacher2)\n",
        "student1.add_mark('Математика', '2024-04-15', 5)\n",
        "student2.add_mark('Информатика', '2024-04-14', 4)\n",
        "\n",
        "try:\n",
        "    student1.add_mark('Математика', '2024-04-15', 7)\n",
        "except ValueError as e:\n",
        "    print(f'Произошла ошибка: {e}')\n",
        "\n",
        "teacher1.change_office('103')"
      ]
    },
    {
      "cell_type": "markdown",
      "id": "7741e683",
      "metadata": {
        "id": "7741e683"
      },
      "source": [
        "### ЗАДАНИЕ D2. Модуль MATH\n"
      ]
    },
    {
      "cell_type": "markdown",
      "id": "b799ca70",
      "metadata": {
        "id": "b799ca70"
      },
      "source": [
        "Реализовать функцию, вычисляющую математическую формулу. Параметры формулы являются аргументами функций. <img src='data:image/png;base64,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' />\n"
      ]
    },
    {
      "cell_type": "code",
      "execution_count": 17,
      "id": "c6906ba0",
      "metadata": {
        "id": "c6906ba0"
      },
      "outputs": [],
      "source": [
        "from cmath import cos, sqrt\n",
        "\n",
        "\n",
        "def func(x, y, z):\n",
        "    if x == 0:\n",
        "        raise ZeroDivisionError('Ошибка (деление на ноль)')\n",
        "\n",
        "    return 25 * (77 * z ** 3 + y + x ** 2) ** 2 - 37 * cos(y) ** 6 + sqrt((25 * cos(34 * x ** 3 + 97 * y) ** 3 - 83 * z ** 2) / x ** 6 - 2 * (85 * x ** 2 + 97 * y + 21 * z ** 3) ** 3)"
      ]
    },
    {
      "cell_type": "markdown",
      "id": "4ee9f672",
      "metadata": {
        "id": "4ee9f672"
      },
      "source": [
        "Тестирование:"
      ]
    },
    {
      "cell_type": "code",
      "execution_count": 18,
      "id": "a4891336",
      "metadata": {
        "colab": {
          "base_uri": "https://localhost:8080/"
        },
        "id": "a4891336",
        "outputId": "932600b5-0a0b-4910-abb0-bb3b0e50fc36"
      },
      "outputs": [
        {
          "output_type": "stream",
          "name": "stdout",
          "text": [
            "f(0, 1, 1) - Ошибка (деление на ноль)\n",
            "f(0, 1, 2) - Ошибка (деление на ноль)\n",
            "f(0, 1, 3) - Ошибка (деление на ноль)\n",
            "f(0, 2, 1) - Ошибка (деление на ноль)\n",
            "f(0, 2, 2) - Ошибка (деление на ноль)\n",
            "f(0, 2, 3) - Ошибка (деление на ноль)\n",
            "f(0, 3, 1) - Ошибка (деление на ноль)\n",
            "f(0, 3, 2) - Ошибка (деление на ноль)\n",
            "f(0, 3, 3) - Ошибка (деление на ноль)\n",
            "f(1, 1, 1) = (156024.07950242216+4090.3461974800025j)\n",
            "f(1, 1, 2) = (9548099.079502422+9260.14724587245j)\n",
            "f(1, 1, 3) = (108264024.07950242+28989.31251367026j)\n",
            "f(1, 2, 1) = (159999.8078318941+7348.474897130003j)\n",
            "f(1, 2, 2) = (9579024.807831895+13365.237682650833j)\n",
            "f(1, 2, 3) = (108368099.8078319+34799.313489115695j)\n",
            "f(1, 3, 1) = (163990.1668185583+11186.671939933763j)\n",
            "f(1, 3, 2) = (9609965.16681856+17943.76493637j)\n",
            "f(1, 3, 3) = (108472190.16681856+40952.708837043996j)\n",
            "f(2, 1, 1) = (168099.07950242216+13861.595337401573j)\n",
            "f(2, 1, 2) = (9641024.079502422+21044.957951692326j)\n",
            "f(2, 1, 3) = (108576399.07950242+44989.95598656297j)\n",
            "f(2, 2, 1) = (172224.8078318941+18490.747720070853j)\n",
            "f(2, 2, 2) = (9672099.807831895+26303.93166691874j)\n",
            "f(2, 2, 3) = (108680624.8078319+51664.945694564565j)\n",
            "f(2, 3, 1) = (176365.1668185583+23544.333022868672j)\n",
            "f(2, 3, 2) = (9703190.16681856+31940.018838165535j)\n",
            "f(2, 3, 3) = (108784865.16681856+58640.8457976754j)\n",
            "f(3, 1, 1) = (189224.07950242216+37107.01785571924j)\n",
            "f(3, 1, 2) = (9796899.079502422+46748.83956299055j)\n",
            "f(3, 1, 3) = (109098024.07950242+76394.71957573706j)\n",
            "f(3, 2, 1) = (193599.8078318941+43386.44949843606j)\n",
            "f(3, 2, 2) = (9828224.807831895+53505.80124081786j)\n",
            "f(3, 2, 3) = (109202499.8078319+84303.73154843847j)\n",
            "f(3, 3, 1) = (197990.1668185583+49984.86837170355j)\n",
            "f(3, 3, 2) = (9859565.16681856+60560.17543301946j)\n",
            "f(3, 3, 3) = (109306990.16681856+92468.27961548418j)\n"
          ]
        }
      ],
      "source": [
        "for x in range(4):\n",
        "    for y in range(1, 4):\n",
        "        for z in range(1, 4):\n",
        "            try:\n",
        "                print(f'f({x}, {y}, {z}) =', func(x, y, z))\n",
        "            except ZeroDivisionError as e:\n",
        "                print(f'f({x}, {y}, {z}) -', e)"
      ]
    },
    {
      "cell_type": "markdown",
      "id": "4106b4f5",
      "metadata": {
        "id": "4106b4f5"
      },
      "source": [
        "### ЗАДАНИЕ D3. Модуль RE\n"
      ]
    },
    {
      "cell_type": "markdown",
      "id": "0b352111",
      "metadata": {
        "id": "0b352111"
      },
      "source": [
        "Количество слов. Слово — это последовательность из букв (русских или английских), внутри которой могут быть дефисы. На вход даётся текст, посчитайте, сколько в нём слов.  Примеры: Он --- серо-буро-малиновый!!  -> 2\n"
      ]
    },
    {
      "cell_type": "code",
      "execution_count": 20,
      "id": "44942807",
      "metadata": {
        "id": "44942807"
      },
      "outputs": [],
      "source": [
        "from re import compile, findall\n",
        "\n",
        "\n",
        "def count_words(text):\n",
        "    return len(findall(compile(r'\\b[а-яА-Яa-zA-Z]+(?:-[а-яА-Яa-zA-Z]+)*\\b'), text))"
      ]
    },
    {
      "cell_type": "markdown",
      "id": "026fc9ee",
      "metadata": {
        "id": "026fc9ee"
      },
      "source": [
        "Тестирование:"
      ]
    },
    {
      "cell_type": "code",
      "execution_count": 24,
      "id": "ad9e8929",
      "metadata": {
        "colab": {
          "base_uri": "https://localhost:8080/"
        },
        "id": "ad9e8929",
        "outputId": "22c73ff9-1b25-4ffa-d6b3-833cd75c7eba"
      },
      "outputs": [
        {
          "output_type": "stream",
          "name": "stdout",
          "text": [
            "TEST PASSED - ТЕСТЫ ПРОЙДЕНЫ\n"
          ]
        }
      ],
      "source": [
        "import traceback\n",
        "\n",
        "\n",
        "try:\n",
        "    assert count_words('Он --- серо-буро-малиновый!!') == 2\n",
        "    assert count_words('qwerty - sdfsdf-dfsdf     fgkkk ss') == 4\n",
        "    assert count_words('- - sdf, : dfdfdf') == 2\n",
        "    assert count_words('1sdf3 kk . ва') == 2\n",
        "except AssertionError:\n",
        "    print('TEST ERROR - ОШИБКА В ТЕСТЕ')\n",
        "    traceback.print_exc()\n",
        "else:\n",
        "    print('TEST PASSED - ТЕСТЫ ПРОЙДЕНЫ')"
      ]
    },
    {
      "cell_type": "markdown",
      "id": "a5262799",
      "metadata": {
        "id": "a5262799"
      },
      "source": [
        "### ЗАДАНИЕ D4. Различные модули для работы с платформой и операционной системой\n"
      ]
    },
    {
      "cell_type": "markdown",
      "id": "49681f61",
      "metadata": {
        "id": "49681f61"
      },
      "source": [
        "Вручную собрать в папке «OP» файлы формата «task_A1.py» – все ранее решенные задачи из тем A, B. Написать функцию, которая автоматически распределит файлы по двум подпапкам («тема A», «тема B»).  Написать функцию, которая получает адрес папки «OP» и выполнит обход всех подпапок и: o\tчтение всех «task_****.py» файлов, нахождение в тексте названия функции и параметров o\tпрограммный запуск и выполнение данных файлов, подсчет времени выполнения. Вывод функции в формате: <img src='data:image/png;base64,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' />\n"
      ]
    },
    {
      "cell_type": "code",
      "execution_count": 90,
      "id": "121fd6d9",
      "metadata": {
        "colab": {
          "base_uri": "https://localhost:8080/"
        },
        "id": "121fd6d9",
        "outputId": "b9f81c10-cdc8-4bea-c1e9-115c786aa76c"
      },
      "outputs": [
        {
          "output_type": "stream",
          "name": "stdout",
          "text": [
            "folder \"A\":\n",
            ">>> script \"TASK_A5.py\"\n",
            ">>> function \"display()\"\n",
            ">>> output \"TEST PASSED - ТЕСТЫ ПРОЙДЕНЫ\"\n",
            ">>> time \"0.049379587173461914 sec\"\n",
            "\n",
            ">>> script \"TASK_A3.py\"\n",
            ">>> function \"riders()\"\n",
            ">>> output \"TEST PASSED - ТЕСТЫ ПРОЙДЕНЫ\"\n",
            ">>> time \"0.0472261905670166 sec\"\n",
            "\n",
            ">>> script \"TASK_A1.py\"\n",
            ">>> function \"factorial()\"\n",
            ">>> output \"TEST PASSED - ТЕСТЫ ПРОЙДЕНЫ\"\n",
            ">>> time \"0.04605674743652344 sec\"\n",
            "\n",
            ">>> script \"TASK_A2.py\"\n",
            ">>> function \"int_diff()\"\n",
            ">>> output \"TEST PASSED - ТЕСТЫ ПРОЙДЕНЫ\"\n",
            ">>> time \"0.04583573341369629 sec\"\n",
            "\n",
            ">>> script \"TASK_A4.py\"\n",
            ">>> function \"isPrime()\"\n",
            ">>> output \"TEST PASSED - ТЕСТЫ ПРОЙДЕНЫ\"\n",
            ">>> time \"0.047481536865234375 sec\"\n",
            "\n",
            "folder \"B\":\n",
            ">>> script \"TASK_B1.py\"\n",
            ">>> function \"duplicate_encode()\"\n",
            ">>> output \"TEST PASSED - ТЕСТЫ ПРОЙДЕНЫ\"\n",
            ">>> time \"0.04672050476074219 sec\"\n",
            "\n",
            ">>> script \"TASK_B4.py\"\n",
            ">>> function \"wiki_function()\"\n",
            ">>> output \"1 place --- the --- 23 times\n",
            "2 place --- town --- 9 times\n",
            "3 place --- of --- 9 times\n",
            "4 place --- is --- 7 times\n",
            "5 place --- in --- 5 times\n",
            "6 place --- a --- 4 times\n",
            "7 place --- moscow --- 4 times\n",
            "8 place --- to --- 4 times\n",
            "9 place --- by --- 4 times\n",
            "10 place --- volga --- 4 times\"\n",
            ">>> time \"0.04655647277832031 sec\"\n",
            "\n",
            ">>> script \"TASK_B2.py\"\n",
            ">>> function \"high_score()\"\n",
            ">>> output \"TEST PASSED - ТЕСТЫ ПРОЙДЕНЫ\"\n",
            ">>> time \"0.04320645332336426 sec\"\n",
            "\n",
            ">>> script \"TASK_B3.py\"\n",
            ">>> function \"spin_words()\"\n",
            ">>> output \"TEST PASSED - ТЕСТЫ ПРОЙДЕНЫ\"\n",
            ">>> time \"0.045134782791137695 sec\"\n",
            "\n"
          ]
        }
      ],
      "source": [
        "import subprocess\n",
        "import shutil\n",
        "import time\n",
        "import os\n",
        "import re\n",
        "\n",
        "\n",
        "def func(path):\n",
        "    folders = { 'A': os.path.join(path, 'A'),'B': os.path.join(path, 'B')}\n",
        "\n",
        "    for file in os.listdir(path):\n",
        "        if file.startswith('TASK_A') and file.endswith('.py'):\n",
        "            shutil.move(os.path.join(path, file), os.path.join(folders['A'], file))\n",
        "        elif file.startswith('TASK_B') and file.endswith('.py'):\n",
        "            shutil.move(os.path.join(path, file), os.path.join(folders['B'], file))\n",
        "\n",
        "    for theme, folder in folders.items():\n",
        "        print(f'folder \"{theme}\":')\n",
        "        for script in os.listdir(folder):\n",
        "            start_time = time.time()\n",
        "            script_path = os.path.join(folder, script)\n",
        "\n",
        "            with open(script_path, 'r') as file:\n",
        "                function_match = re.search(r'def (\\w+)\\(', file.read())\n",
        "\n",
        "                if function_match:\n",
        "                    function_name = function_match.group(1)\n",
        "                else:\n",
        "                    function_name = \"No function found\"\n",
        "\n",
        "            try:\n",
        "                result = subprocess.run(['python', script_path], capture_output=True, text=True)\n",
        "                output = result.stdout.strip() or 'No output'\n",
        "                error = result.stderr.strip()\n",
        "            except Exception as e:\n",
        "                output = 'Error'\n",
        "                error = e\n",
        "\n",
        "            print(f'>>> script \"{script}\"')\n",
        "            print(f'>>> function \"{function_name}()\"')\n",
        "            print(f'>>> output \"{output}\"')\n",
        "            if error:\n",
        "                print(f'>>> error \"{error}\"')\n",
        "            print(f'>>> time \"{time.time() - start_time} sec\"')\n",
        "            print()\n",
        "\n",
        "\n",
        "func('OP')"
      ]
    }
  ],
  "metadata": {
    "colab": {
      "provenance": [],
      "include_colab_link": true
    },
    "language_info": {
      "name": "python"
    },
    "kernelspec": {
      "name": "python3",
      "display_name": "Python 3"
    }
  },
  "nbformat": 4,
  "nbformat_minor": 5
}